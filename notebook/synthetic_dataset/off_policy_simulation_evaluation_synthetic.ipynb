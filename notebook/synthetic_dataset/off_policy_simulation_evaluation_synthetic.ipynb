{
 "cells": [
  {
   "cell_type": "markdown",
   "metadata": {
    "pycharm": {
     "name": "#%% md\n"
    }
   },
   "source": [
    "# Off Policy Evaluation - Synthetic Bandit Data\n",
    "---\n",
    "This notebook provides an example of conducting OPE of several different evaluation policies with synthetic logged bandit data.\n",
    "\n",
    "The example consists of the following four major steps:\n",
    "- (1) Generating Synthetic Data\n",
    "- (2) Bandit Policy Offline Simulation\n",
    "- (3) Off-Policy Evaluation\n",
    "- (4) Evaluation of OPE Estimators\n",
    "\n",
    "Please see [../examples/synthetic](../synthetic) for a more sophisticated example of the evaluation of OPE with synthetic bandit data."
   ]
  },
  {
   "cell_type": "code",
   "execution_count": 1,
   "metadata": {
    "pycharm": {
     "name": "#%%\n"
    }
   },
   "outputs": [],
   "source": [
    "# needed when using Google Colab\n",
    "# !pip install obp"
   ]
  },
  {
   "cell_type": "code",
   "execution_count": 25,
   "metadata": {
    "pycharm": {
     "name": "#%%\n"
    }
   },
   "outputs": [],
   "source": [
    "import numpy as np\n",
    "from sklearn.ensemble import RandomForestClassifier as RandomForest\n",
    "from sklearn.linear_model import LogisticRegression\n",
    "\n",
    "# import open bandit pipeline (obp) packages\n",
    "import obp\n",
    "from obp.dataset import (\n",
    "    SyntheticBanditDataset,\n",
    "    logistic_reward_function,\n",
    "    linear_reward_function\n",
    ")\n",
    "\n",
    "from obp.policy import (\n",
    "    BernoulliTS,\n",
    "    Random\n",
    ")\n",
    "\n",
    "from obp.policy import IPWLearner, Random\n",
    "\n",
    "from obp.ope import (\n",
    "    OffPolicyEvaluation, \n",
    "    RegressionModel,\n",
    "    InverseProbabilityWeighting,\n",
    "    DirectMethod,\n",
    "    DoublyRobust\n",
    ")\n",
    "\n",
    "from obp.simulator import (\n",
    "    run_bandit_simulation,\n",
    "    calc_ground_truth_policy_value\n",
    ")\n",
    "\n",
    "# Other packages\n",
    "# data analysis\n",
    "import pandas as pd\n",
    "import numpy as np\n",
    "\n",
    "# plotting deps\n",
    "from matplotlib import pyplot as plt\n",
    "import seaborn as sns\n",
    "\n",
    "# sklearn regressors\n",
    "from sklearn.linear_model import LogisticRegression\n",
    "\n",
    "\n",
    "# path\n",
    "from pathlib import Path\n",
    "\n",
    "# system\n",
    "import sys\n",
    "import gc\n",
    "import math\n"
   ]
  },
  {
   "cell_type": "code",
   "execution_count": 3,
   "metadata": {
    "pycharm": {
     "name": "#%%\n"
    }
   },
   "outputs": [
    {
     "name": "stdout",
     "output_type": "stream",
     "text": [
      "0.5.5\n"
     ]
    }
   ],
   "source": [
    "# obp version\n",
    "print(obp.__version__)"
   ]
  },
  {
   "cell_type": "code",
   "execution_count": null,
   "metadata": {
    "pycharm": {
     "name": "#%%\n"
    }
   },
   "outputs": [],
   "source": []
  },
  {
   "cell_type": "markdown",
   "metadata": {
    "pycharm": {
     "name": "#%% md\n"
    }
   },
   "source": [
    "## (1) Generating Synthetic Data\n",
    "`obp.dataset.SyntheticBanditDataset` is an easy-to-use synthetic data generator.\n",
    "\n",
    "It takes \n",
    "- number of actions (`n_actions`, $|\\mathcal{A}|$)\n",
    "- dimension of context vectors (`dim_context`, $d$)\n",
    "- reward function (`reward_function`, $q(x,a)=\\mathbb{E}[r|x,a]$)\n",
    "\n",
    "as inputs and generates synthetic logged bandit data that can be used to evaluate the performance of decision making policies (obtained by `off-policy learning`) and OPE estimators."
   ]
  },
  {
   "cell_type": "code",
   "execution_count": 5,
   "metadata": {
    "pycharm": {
     "name": "#%%\n"
    },
    "tags": []
   },
   "outputs": [],
   "source": [
    "# generate synthetic logged bandit data with 10 actions\n",
    "# we use `logistic function` as the reward function and control the behavior policy with `beta`\n",
    "# one can define their own reward function and behavior policy function such as nonlinear ones. \n",
    "dataset = SyntheticBanditDataset(\n",
    "    n_actions=10,\n",
    "    dim_context=5,\n",
    "    beta=1.0, # inverse temperature parameter to control the optimality and entropy of the behavior policy\n",
    "    reward_type=\"binary\", # \"binary\" or \"continuous\"\n",
    "    reward_function=logistic_reward_function,\n",
    "    random_state=12345,\n",
    ")"
   ]
  },
  {
   "cell_type": "code",
   "execution_count": 8,
   "metadata": {
    "pycharm": {
     "name": "#%%\n"
    }
   },
   "outputs": [],
   "source": [
    "# obtain training and test sets of synthetic logged bandit data\n",
    "n_rounds_train, n_rounds_test = 1000000, 100000\n",
    "bandit_feedback_train = dataset.obtain_batch_bandit_feedback(n_rounds=n_rounds_train)\n",
    "# bandit_feedback_test = dataset.obtain_batch_bandit_feedback(n_rounds=n_rounds_test)"
   ]
  },
  {
   "cell_type": "code",
   "execution_count": 9,
   "outputs": [
    {
     "data": {
      "text/plain": "dict"
     },
     "execution_count": 9,
     "metadata": {},
     "output_type": "execute_result"
    }
   ],
   "source": [
    "type(bandit_feedback_train)"
   ],
   "metadata": {
    "collapsed": false,
    "pycharm": {
     "name": "#%%\n"
    }
   }
  },
  {
   "cell_type": "markdown",
   "metadata": {
    "pycharm": {
     "name": "#%% md\n"
    }
   },
   "source": [
    "Note that a logged bandit dataset is collected by the behavior policy as follows.\n",
    "\n",
    "$ \\mathcal{D}_b := \\{(x_i,a_i,r_i)\\}$  where $(x,a,r) \\sim p(x)\\pi_b(a \\mid x)p(r \\mid x,a) $"
   ]
  },
  {
   "cell_type": "code",
   "execution_count": 10,
   "metadata": {
    "pycharm": {
     "name": "#%%\n"
    }
   },
   "outputs": [
    {
     "data": {
      "text/plain": "{'n_rounds': 1000000,\n 'n_actions': 10,\n 'context': array([[-1.13307541, -0.91451521, -0.11498798, -0.10566928, -2.06352141],\n        [ 0.822959  ,  0.39971179,  0.20189839, -0.67632421,  0.01118836],\n        [-0.99276264,  0.01823596, -0.14743169, -0.87653554,  0.02793915],\n        ...,\n        [ 0.44312121, -0.34011368,  0.73435223, -0.15334762, -0.21791665],\n        [ 0.91025866,  1.76049116, -0.03505151, -1.83521047, -0.72017129],\n        [ 0.81549736,  1.72363914, -0.5861176 ,  0.32935142,  0.4811836 ]]),\n 'action_context': array([[1, 0, 0, 0, 0, 0, 0, 0, 0, 0],\n        [0, 1, 0, 0, 0, 0, 0, 0, 0, 0],\n        [0, 0, 1, 0, 0, 0, 0, 0, 0, 0],\n        [0, 0, 0, 1, 0, 0, 0, 0, 0, 0],\n        [0, 0, 0, 0, 1, 0, 0, 0, 0, 0],\n        [0, 0, 0, 0, 0, 1, 0, 0, 0, 0],\n        [0, 0, 0, 0, 0, 0, 1, 0, 0, 0],\n        [0, 0, 0, 0, 0, 0, 0, 1, 0, 0],\n        [0, 0, 0, 0, 0, 0, 0, 0, 1, 0],\n        [0, 0, 0, 0, 0, 0, 0, 0, 0, 1]]),\n 'action': array([9, 2, 1, ..., 1, 6, 5]),\n 'position': None,\n 'reward': array([0, 1, 1, ..., 1, 0, 0]),\n 'expected_reward': array([[0.55182287, 0.75045765, 0.53320232, ..., 0.19393054, 0.70262369,\n         0.71512071],\n        [0.56491901, 0.5604391 , 0.74308222, ..., 0.47552136, 0.50988351,\n         0.65300238],\n        [0.71729159, 0.7720794 , 0.51867133, ..., 0.37003426, 0.65085932,\n         0.46935726],\n        ...,\n        [0.42025536, 0.55835616, 0.63288891, ..., 0.46986574, 0.59148943,\n         0.62862497],\n        [0.67447404, 0.67238146, 0.92036098, ..., 0.33102609, 0.447704  ,\n         0.63483425],\n        [0.78016504, 0.38420288, 0.6117798 , ..., 0.46418789, 0.60572976,\n         0.49862897]]),\n 'pi_b': array([[[0.10006979],\n         [0.12205877],\n         [0.09822368],\n         ...,\n         [0.06996363],\n         [0.11635765],\n         [0.1178209 ]],\n \n        [[0.1060011 ],\n         [0.10552729],\n         [0.12667347],\n         ...,\n         [0.09693608],\n         [0.1003249 ],\n         [0.11576159]],\n \n        [[0.12224104],\n         [0.12912522],\n         [0.10022068],\n         ...,\n         [0.08637838],\n         [0.11438415],\n         [0.09539827]],\n \n        ...,\n \n        [[0.09294446],\n         [0.10670872],\n         [0.11496591],\n         ...,\n         [0.09767176],\n         [0.11030355],\n         [0.11447674]],\n \n        [[0.11987733],\n         [0.11962674],\n         [0.15329373],\n         ...,\n         [0.08503143],\n         [0.0955547 ],\n         [0.11521837]],\n \n        [[0.13345679],\n         [0.08982072],\n         [0.11277476],\n         ...,\n         [0.09730016],\n         [0.11209453],\n         [0.10070966]]]),\n 'pscore': array([0.1178209 , 0.12667347, 0.12912522, ..., 0.10670872, 0.06812128,\n        0.07251833])}"
     },
     "execution_count": 10,
     "metadata": {},
     "output_type": "execute_result"
    }
   ],
   "source": [
    "# `bandit_feedback` is a dictionary storing synthetic logged bandit data\n",
    "bandit_feedback_train"
   ]
  },
  {
   "cell_type": "code",
   "execution_count": 12,
   "outputs": [
    {
     "data": {
      "text/plain": "array([[-1.13307541, -0.91451521, -0.11498798, -0.10566928, -2.06352141],\n       [ 0.822959  ,  0.39971179,  0.20189839, -0.67632421,  0.01118836],\n       [-0.99276264,  0.01823596, -0.14743169, -0.87653554,  0.02793915],\n       [ 0.41331201, -0.27140536, -0.27250966, -0.3032074 , -0.87270312],\n       [ 0.20319652,  1.84721768, -1.86026551,  0.39907171,  0.92581927],\n       [-0.85956744, -2.03616853,  1.24650097, -0.07376542, -0.59103572],\n       [ 0.47322847,  0.84003669, -0.1366191 , -1.19954766,  0.34581686],\n       [-0.47826182,  0.88432571, -0.79834985,  0.91027375,  0.58307073],\n       [-1.32465212, -2.10266565, -1.64730107,  2.91143273, -2.03774068],\n       [-1.01803092, -0.89831875, -1.35811752,  1.33699594,  1.04196721]])"
     },
     "execution_count": 12,
     "metadata": {},
     "output_type": "execute_result"
    }
   ],
   "source": [
    "# context\n",
    "bandit_feedback_train[\"context\"][:10]"
   ],
   "metadata": {
    "collapsed": false,
    "pycharm": {
     "name": "#%%\n"
    }
   }
  },
  {
   "cell_type": "code",
   "execution_count": 14,
   "outputs": [
    {
     "data": {
      "text/plain": "array([9, 2, 1, 1, 5, 5, 9, 6, 7, 6])"
     },
     "execution_count": 14,
     "metadata": {},
     "output_type": "execute_result"
    }
   ],
   "source": [
    "# action\n",
    "bandit_feedback_train[\"action\"][:10]"
   ],
   "metadata": {
    "collapsed": false,
    "pycharm": {
     "name": "#%%\n"
    }
   }
  },
  {
   "cell_type": "code",
   "execution_count": 15,
   "metadata": {
    "pycharm": {
     "name": "#%%\n"
    }
   },
   "outputs": [
    {
     "data": {
      "text/plain": "array([0, 1, 1, 0, 0, 1, 0, 1, 0, 0])"
     },
     "execution_count": 15,
     "metadata": {},
     "output_type": "execute_result"
    }
   ],
   "source": [
    "# reward\n",
    "bandit_feedback_train[\"reward\"][:10]"
   ]
  },
  {
   "cell_type": "code",
   "execution_count": 16,
   "outputs": [
    {
     "data": {
      "text/plain": "array([0.1178209 , 0.12667347, 0.12912522, 0.10413342, 0.07187001,\n       0.08196395, 0.10679955, 0.09817694, 0.06441908, 0.1097036 ])"
     },
     "execution_count": 16,
     "metadata": {},
     "output_type": "execute_result"
    }
   ],
   "source": [
    "# pscore -> probability of selecting any action\n",
    "bandit_feedback_train[\"pscore\"][:10]"
   ],
   "metadata": {
    "collapsed": false,
    "pycharm": {
     "name": "#%%\n"
    }
   }
  },
  {
   "cell_type": "markdown",
   "source": [
    "## (2) Bandit Policy Offline Simulation\n",
    "After generating synthetic data, we now train some candidate evaluation policies using the training bandit dataset. <br>\n",
    "\n",
    "We use `obp.ope.IPWLearner` to train evaluation policies.\n",
    "We also use `RandomForestClassifier` and `LogisticRegression` implemented in scikit-learn for base ML methods."
   ],
   "metadata": {
    "collapsed": false,
    "pycharm": {
     "name": "#%% md\n"
    }
   }
  },
  {
   "cell_type": "markdown",
   "source": [
    "**Note: BernoulliTs is not a contextual bandit (context free),\n",
    "so it don't require context (such as User-Context, Action-Context, User-Action-Affinity)**"
   ],
   "metadata": {
    "collapsed": false,
    "pycharm": {
     "name": "#%% md\n"
    }
   }
  },
  {
   "cell_type": "code",
   "execution_count": 24,
   "outputs": [
    {
     "data": {
      "text/plain": "(10, 1)"
     },
     "execution_count": 24,
     "metadata": {},
     "output_type": "execute_result"
    }
   ],
   "source": [
    "dataset.n_actions, dataset.len_list"
   ],
   "metadata": {
    "collapsed": false,
    "pycharm": {
     "name": "#%%\n"
    }
   }
  },
  {
   "cell_type": "code",
   "execution_count": 17,
   "outputs": [],
   "source": [
    "# define BernoulliTS as an evaluation policy\n",
    "evaluation_policy = BernoulliTS(\n",
    "    n_actions=dataset.n_actions,\n",
    "    len_list=dataset.len_list,\n",
    "    # is_zozotown_prior=True, # replicate the BernoulliTS policy in the ZOZOTOWN production\n",
    "    # campaign=\"all\",\n",
    "    random_state=12345,\n",
    ")"
   ],
   "metadata": {
    "collapsed": false,
    "pycharm": {
     "name": "#%%\n"
    }
   }
  },
  {
   "cell_type": "code",
   "execution_count": 18,
   "outputs": [
    {
     "data": {
      "text/plain": "BernoulliTS(n_actions=10, len_list=1, batch_size=1, random_state=12345, alpha=array([1., 1., 1., 1., 1., 1., 1., 1., 1., 1.]), beta=array([1., 1., 1., 1., 1., 1., 1., 1., 1., 1.]), is_zozotown_prior=False, campaign=None, policy_name='bts')"
     },
     "execution_count": 18,
     "metadata": {},
     "output_type": "execute_result"
    }
   ],
   "source": [
    "evaluation_policy"
   ],
   "metadata": {
    "collapsed": false,
    "pycharm": {
     "name": "#%%\n"
    }
   }
  },
  {
   "cell_type": "code",
   "execution_count": 27,
   "outputs": [
    {
     "name": "stderr",
     "output_type": "stream",
     "text": [
      "100%|██████████| 1000000/1000000 [00:47<00:00, 20863.10it/s]\n"
     ]
    }
   ],
   "source": [
    "action_dist = run_bandit_simulation(\n",
    "    bandit_feedback=bandit_feedback_train,\n",
    "    policy=evaluation_policy\n",
    ")"
   ],
   "metadata": {
    "collapsed": false,
    "pycharm": {
     "name": "#%%\n"
    }
   }
  },
  {
   "cell_type": "code",
   "execution_count": 28,
   "outputs": [
    {
     "data": {
      "text/plain": "(1000000, 10, 1)"
     },
     "execution_count": 28,
     "metadata": {},
     "output_type": "execute_result"
    }
   ],
   "source": [
    "# `action_dist` is an array of shape (n_rounds, n_actions, len_list)\n",
    "# Probability estimates of each arm being the best one for each sample, action, and position\n",
    "action_dist.shape"
   ],
   "metadata": {
    "collapsed": false,
    "pycharm": {
     "name": "#%%\n"
    }
   }
  },
  {
   "cell_type": "code",
   "execution_count": 32,
   "outputs": [
    {
     "data": {
      "text/plain": "array([[0., 0., 0., 0., 0., 0., 0., 0., 1., 0.]])"
     },
     "execution_count": 32,
     "metadata": {},
     "output_type": "execute_result"
    }
   ],
   "source": [
    "action_dist[500].T"
   ],
   "metadata": {
    "collapsed": false,
    "pycharm": {
     "name": "#%%\n"
    }
   }
  },
  {
   "cell_type": "code",
   "execution_count": 19,
   "outputs": [],
   "source": [
    "# # compute the `action choice probabilities` of the `evaluation policy` via `Monte Carlo simulation`\n",
    "# # representing the distribution over actions by the evaluation policy\n",
    "# # Probability estimates of each arm being the best one for each sample, action, and position\n",
    "#\n",
    "# action_dist = evaluation_policy.compute_batch_action_dist(\n",
    "#     n_sim=100000, n_rounds=bandit_feedback_train[\"n_rounds\"],\n",
    "# )"
   ],
   "metadata": {
    "collapsed": false,
    "pycharm": {
     "name": "#%%\n"
    }
   }
  },
  {
   "cell_type": "code",
   "execution_count": 29,
   "outputs": [],
   "source": [
    "# # `action_dist` is an array of shape (n_rounds, n_actions, len_list)\n",
    "# # Probability estimates of each arm being the best one for each sample, action, and position\n",
    "# action_dist.shape"
   ],
   "metadata": {
    "collapsed": false,
    "pycharm": {
     "name": "#%%\n"
    }
   }
  },
  {
   "cell_type": "code",
   "execution_count": 33,
   "outputs": [],
   "source": [
    "# action_dist[6].T"
   ],
   "metadata": {
    "collapsed": false,
    "pycharm": {
     "name": "#%%\n"
    }
   }
  },
  {
   "cell_type": "code",
   "execution_count": 40,
   "outputs": [],
   "source": [
    "# 1000000 - 1"
   ],
   "metadata": {
    "collapsed": false,
    "pycharm": {
     "name": "#%%\n"
    }
   }
  },
  {
   "cell_type": "code",
   "execution_count": 39,
   "outputs": [
    {
     "data": {
      "text/plain": "<AxesSubplot:>"
     },
     "execution_count": 39,
     "metadata": {},
     "output_type": "execute_result"
    },
    {
     "data": {
      "text/plain": "<Figure size 1440x720 with 1 Axes>",
      "image/png": "[encoded data removed]"
     },
     "metadata": {
      "needs_background": "light"
     },
     "output_type": "display_data"
    }
   ],
   "source": [
    "pd.DataFrame(action_dist[999999]).plot(kind='bar', figsize=(20,10))"
   ],
   "metadata": {
    "collapsed": false,
    "pycharm": {
     "name": "#%%\n"
    }
   }
  },
  {
   "cell_type": "code",
   "execution_count": null,
   "outputs": [],
   "source": [],
   "metadata": {
    "collapsed": false,
    "pycharm": {
     "name": "#%%\n"
    }
   }
  },
  {
   "cell_type": "code",
   "execution_count": null,
   "outputs": [],
   "source": [],
   "metadata": {
    "collapsed": false,
    "pycharm": {
     "name": "#%%\n"
    }
   }
  },
  {
   "cell_type": "code",
   "execution_count": null,
   "outputs": [],
   "source": [],
   "metadata": {
    "collapsed": false,
    "pycharm": {
     "name": "#%%\n"
    }
   }
  },
  {
   "cell_type": "code",
   "execution_count": 53,
   "metadata": {
    "pycharm": {
     "name": "#%%\n"
    }
   },
   "outputs": [],
   "source": [
    "# define Uniform Random Policy as a baseline evaluation policy\n",
    "random = Random(n_actions=dataset.n_actions,)\n",
    "\n",
    "# obtains action choice probabilities for the test set\n",
    "action_dist_random = random.compute_batch_action_dist(\n",
    "    n_rounds=bandit_feedback_train[\"n_rounds\"]\n",
    ")"
   ]
  },
  {
   "cell_type": "code",
   "execution_count": 54,
   "outputs": [
    {
     "data": {
      "text/plain": "(1000000, 10, 1)"
     },
     "execution_count": 54,
     "metadata": {},
     "output_type": "execute_result"
    }
   ],
   "source": [
    "action_dist_random.shape"
   ],
   "metadata": {
    "collapsed": false,
    "pycharm": {
     "name": "#%%\n"
    }
   }
  },
  {
   "cell_type": "code",
   "execution_count": 55,
   "outputs": [
    {
     "data": {
      "text/plain": "array([[0.1, 0.1, 0.1, 0.1, 0.1, 0.1, 0.1, 0.1, 0.1, 0.1],\n       [0.1, 0.1, 0.1, 0.1, 0.1, 0.1, 0.1, 0.1, 0.1, 0.1],\n       [0.1, 0.1, 0.1, 0.1, 0.1, 0.1, 0.1, 0.1, 0.1, 0.1],\n       [0.1, 0.1, 0.1, 0.1, 0.1, 0.1, 0.1, 0.1, 0.1, 0.1],\n       [0.1, 0.1, 0.1, 0.1, 0.1, 0.1, 0.1, 0.1, 0.1, 0.1],\n       [0.1, 0.1, 0.1, 0.1, 0.1, 0.1, 0.1, 0.1, 0.1, 0.1],\n       [0.1, 0.1, 0.1, 0.1, 0.1, 0.1, 0.1, 0.1, 0.1, 0.1],\n       [0.1, 0.1, 0.1, 0.1, 0.1, 0.1, 0.1, 0.1, 0.1, 0.1],\n       [0.1, 0.1, 0.1, 0.1, 0.1, 0.1, 0.1, 0.1, 0.1, 0.1],\n       [0.1, 0.1, 0.1, 0.1, 0.1, 0.1, 0.1, 0.1, 0.1, 0.1]])"
     },
     "execution_count": 55,
     "metadata": {},
     "output_type": "execute_result"
    }
   ],
   "source": [
    "action_dist_random[:10, :, 0]"
   ],
   "metadata": {
    "collapsed": false,
    "pycharm": {
     "name": "#%%\n"
    }
   }
  },
  {
   "cell_type": "code",
   "execution_count": 60,
   "metadata": {
    "pycharm": {
     "name": "#%%\n"
    }
   },
   "outputs": [
    {
     "name": "stderr",
     "output_type": "stream",
     "text": [
      "  0%|          | 0/100 [00:00<?, ?it/s]\n"
     ]
    },
    {
     "ename": "TypeError",
     "evalue": "'int' object is not callable",
     "output_type": "error",
     "traceback": [
      "\u001B[0;31m---------------------------------------------------------------------------\u001B[0m",
      "\u001B[0;31mTypeError\u001B[0m                                 Traceback (most recent call last)",
      "Input \u001B[0;32mIn [60]\u001B[0m, in \u001B[0;36m<cell line: 1>\u001B[0;34m()\u001B[0m\n\u001B[0;32m----> 1\u001B[0m \u001B[43mcalc_ground_truth_policy_value\u001B[49m\u001B[43m(\u001B[49m\n\u001B[1;32m      2\u001B[0m \u001B[43m    \u001B[49m\u001B[43mbandit_feedback\u001B[49m\u001B[38;5;241;43m=\u001B[39;49m\u001B[43mbandit_feedback_train\u001B[49m\u001B[43m,\u001B[49m\n\u001B[1;32m      3\u001B[0m \u001B[43m    \u001B[49m\u001B[43mreward_sampler\u001B[49m\u001B[38;5;241;43m=\u001B[39;49m\u001B[38;5;241;43m1\u001B[39;49m\u001B[43m,\u001B[49m\n\u001B[1;32m      4\u001B[0m \u001B[43m    \u001B[49m\u001B[43mpolicy\u001B[49m\u001B[38;5;241;43m=\u001B[39;49m\u001B[43mevaluation_policy\u001B[49m\n\u001B[1;32m      5\u001B[0m \u001B[43m)\u001B[49m\n",
      "File \u001B[0;32m~/opt/anaconda3/envs/ope-obp/lib/python3.9/site-packages/obp/simulator/simulator.py:162\u001B[0m, in \u001B[0;36mcalc_ground_truth_policy_value\u001B[0;34m(bandit_feedback, reward_sampler, policy, n_sim)\u001B[0m\n\u001B[1;32m    160\u001B[0m action \u001B[38;5;241m=\u001B[39m selected_actions[position_]\n\u001B[1;32m    161\u001B[0m \u001B[38;5;66;03m# sample reward\u001B[39;00m\n\u001B[0;32m--> 162\u001B[0m reward \u001B[38;5;241m=\u001B[39m \u001B[43mreward_sampler\u001B[49m\u001B[43m(\u001B[49m\n\u001B[1;32m    163\u001B[0m \u001B[43m    \u001B[49m\u001B[43mcontext_\u001B[49m\u001B[38;5;241;43m.\u001B[39;49m\u001B[43mreshape\u001B[49m\u001B[43m(\u001B[49m\u001B[38;5;241;43m1\u001B[39;49m\u001B[43m,\u001B[49m\u001B[43m \u001B[49m\u001B[43mdim_context\u001B[49m\u001B[43m)\u001B[49m\u001B[43m,\u001B[49m\u001B[43m \u001B[49m\u001B[43mnp\u001B[49m\u001B[38;5;241;43m.\u001B[39;49m\u001B[43marray\u001B[49m\u001B[43m(\u001B[49m\u001B[43m[\u001B[49m\u001B[43maction\u001B[49m\u001B[43m]\u001B[49m\u001B[43m)\u001B[49m\n\u001B[1;32m    164\u001B[0m \u001B[43m\u001B[49m\u001B[43m)\u001B[49m\n\u001B[1;32m    165\u001B[0m cumulative_reward \u001B[38;5;241m+\u001B[39m\u001B[38;5;241m=\u001B[39m expected_reward_[action]\n\u001B[1;32m    167\u001B[0m \u001B[38;5;66;03m# update parameters of a bandit policy\u001B[39;00m\n",
      "\u001B[0;31mTypeError\u001B[0m: 'int' object is not callable"
     ]
    }
   ],
   "source": [
    "# calc_ground_truth_policy_value(\n",
    "#     bandit_feedback=bandit_feedback_train,\n",
    "#     reward_sampler=1,\n",
    "#     policy=evaluation_policy\n",
    "# )"
   ]
  },
  {
   "cell_type": "code",
   "execution_count": null,
   "outputs": [],
   "source": [],
   "metadata": {
    "collapsed": false,
    "pycharm": {
     "name": "#%%\n"
    }
   }
  },
  {
   "cell_type": "code",
   "execution_count": null,
   "outputs": [],
   "source": [],
   "metadata": {
    "collapsed": false,
    "pycharm": {
     "name": "#%%\n"
    }
   }
  },
  {
   "cell_type": "markdown",
   "metadata": {
    "pycharm": {
     "name": "#%% md\n"
    }
   },
   "source": [
    "## (3) Off-Policy Evaluation (OPE)\n",
    "Our next step is OPE, which aims to estimate the performance of evaluation policies using logged bandit data and OPE estimators.\n",
    "\n",
    "Here, we use \n",
    "- `obp.ope.InverseProbabilityWeighting` (IPW)\n",
    "- `obp.ope.DirectMethod` (DM)\n",
    "- `obp.ope.DoublyRobust` (DR)\n",
    "\n",
    "as OPE estimators and visualize the OPE results."
   ]
  },
  {
   "cell_type": "markdown",
   "metadata": {
    "pycharm": {
     "name": "#%% md\n"
    }
   },
   "source": [
    "### (3-1) Obtaining a reward estimator\n",
    "A reward estimator $\\hat{q}(x,a)$ is needed for model dependent estimators such as DM or DR.\n",
    "\n",
    "$\\hat{q}(x,a) \\approx \\mathbb{E} [r \\mid x,a]$"
   ]
  },
  {
   "cell_type": "code",
   "execution_count": 44,
   "metadata": {
    "pycharm": {
     "name": "#%%\n"
    }
   },
   "outputs": [],
   "source": [
    "# estimate the expected rewards by using an ML model (Logistic Regression here)\n",
    "# the estimated rewards are used by model-dependent estimators such as DM and DR\n",
    "regression_model = RegressionModel(\n",
    "    n_actions=dataset.n_actions,\n",
    "    action_context=dataset.action_context,\n",
    "    base_model=LogisticRegression(random_state=12345),\n",
    ")"
   ]
  },
  {
   "cell_type": "code",
   "execution_count": 45,
   "metadata": {
    "pycharm": {
     "name": "#%%\n"
    }
   },
   "outputs": [],
   "source": [
    "estimated_rewards_by_reg_model = regression_model.fit_predict(\n",
    "    context=bandit_feedback_train[\"context\"],\n",
    "    action=bandit_feedback_train[\"action\"],\n",
    "    reward=bandit_feedback_train[\"reward\"],\n",
    "    n_folds=3, # use 3-fold cross-fitting\n",
    "    random_state=12345,\n",
    ")"
   ]
  },
  {
   "cell_type": "code",
   "execution_count": 46,
   "outputs": [
    {
     "data": {
      "text/plain": "(1000000, 10, 1)"
     },
     "execution_count": 46,
     "metadata": {},
     "output_type": "execute_result"
    }
   ],
   "source": [
    "estimated_rewards_by_reg_model.shape"
   ],
   "metadata": {
    "collapsed": false,
    "pycharm": {
     "name": "#%%\n"
    }
   }
  },
  {
   "cell_type": "code",
   "execution_count": 47,
   "outputs": [
    {
     "data": {
      "text/plain": "array([[0.64671129, 0.61109406, 0.58445276, 0.60920058, 0.6030542 ,\n        0.27605622, 0.35882904, 0.48226318, 0.66597048, 0.60839843],\n       [0.6237394 , 0.58625968, 0.56052027, 0.5831155 , 0.57628468,\n        0.25548486, 0.33003692, 0.45336423, 0.64375706, 0.5855043 ],\n       [0.63109207, 0.59488658, 0.56792003, 0.59296675, 0.58673825,\n        0.26273163, 0.34340435, 0.46538378, 0.65074289, 0.59215358],\n       [0.65509452, 0.61982562, 0.59338446, 0.61794807, 0.61185161,\n        0.28349018, 0.36736091, 0.49148025, 0.67412698, 0.61715259],\n       [0.66322863, 0.6270758 , 0.6016589 , 0.62444158, 0.61641365,\n        0.2906637 , 0.37397029, 0.49725033, 0.68013644, 0.62505498],\n       [0.62517422, 0.58774296, 0.56202689, 0.58460206, 0.57777796,\n        0.25665039, 0.33139117, 0.45488095, 0.64515898, 0.58698838],\n       [0.62625285, 0.58885847, 0.56316026, 0.58572008, 0.57890112,\n        0.25753005, 0.33241245, 0.45602323, 0.64621264, 0.5881045 ],\n       [0.63086772, 0.59337083, 0.56724207, 0.59065395, 0.58238679,\n        0.26232152, 0.34141478, 0.46188083, 0.64853927, 0.59128641],\n       [0.72517558, 0.69372249, 0.66968189, 0.69202856, 0.68651452,\n        0.35470018, 0.44650971, 0.57314393, 0.74186469, 0.69131027],\n       [0.701813  , 0.66772709, 0.6435057 , 0.66522673, 0.65759256,\n        0.32873056, 0.41654063, 0.54171081, 0.71760846, 0.66580916]])"
     },
     "execution_count": 47,
     "metadata": {},
     "output_type": "execute_result"
    }
   ],
   "source": [
    "estimated_rewards_by_reg_model[:10,:,0]"
   ],
   "metadata": {
    "collapsed": false,
    "pycharm": {
     "name": "#%%\n"
    }
   }
  },
  {
   "cell_type": "markdown",
   "metadata": {
    "pycharm": {
     "name": "#%% md\n"
    }
   },
   "source": [
    "please refer to https://arxiv.org/abs/2002.08536 about the details of the cross-fitting procedure."
   ]
  },
  {
   "cell_type": "markdown",
   "metadata": {
    "pycharm": {
     "name": "#%% md\n"
    }
   },
   "source": [
    "### (3-2) Off-Policy Evaluation\n",
    "$V(\\pi_e) \\approx \\hat{V} (\\pi_e; \\mathcal{D}_b, \\theta)$ using DM, IPW, and DR"
   ]
  },
  {
   "cell_type": "code",
   "execution_count": 48,
   "metadata": {
    "pycharm": {
     "name": "#%%\n"
    },
    "tags": []
   },
   "outputs": [],
   "source": [
    "# estimate the policy value of the evaluation policies based on their action choice probabilities\n",
    "# it is possible to set multiple OPE estimators to the `ope_estimators` argument\n",
    "ope = OffPolicyEvaluation(\n",
    "    bandit_feedback=bandit_feedback_train,\n",
    "    ope_estimators=[InverseProbabilityWeighting(), DirectMethod(), DoublyRobust()]\n",
    ")"
   ]
  },
  {
   "cell_type": "code",
   "execution_count": 49,
   "outputs": [
    {
     "data": {
      "text/plain": "{'ipw': InverseProbabilityWeighting(lambda_=inf, use_estimated_pscore=False, estimator_name='ipw'),\n 'dm': DirectMethod(estimator_name='dm'),\n 'dr': DoublyRobust(lambda_=inf, use_estimated_pscore=False, estimator_name='dr')}"
     },
     "execution_count": 49,
     "metadata": {},
     "output_type": "execute_result"
    }
   ],
   "source": [
    "ope.ope_estimators_"
   ],
   "metadata": {
    "collapsed": false,
    "pycharm": {
     "name": "#%%\n"
    }
   }
  },
  {
   "cell_type": "code",
   "execution_count": 50,
   "metadata": {
    "pycharm": {
     "name": "#%%\n"
    },
    "tags": []
   },
   "outputs": [
    {
     "data": {
      "text/plain": "     estimated_policy_value  relative_estimated_policy_value\nipw                0.616012                         1.141524\ndm                 0.646729                         1.198445\ndr                 0.617077                         1.143498",
      "text/html": "<div>\n<style scoped>\n    .dataframe tbody tr th:only-of-type {\n        vertical-align: middle;\n    }\n\n    .dataframe tbody tr th {\n        vertical-align: top;\n    }\n\n    .dataframe thead th {\n        text-align: right;\n    }\n</style>\n<table border=\"1\" class=\"dataframe\">\n  <thead>\n    <tr style=\"text-align: right;\">\n      <th></th>\n      <th>estimated_policy_value</th>\n      <th>relative_estimated_policy_value</th>\n    </tr>\n  </thead>\n  <tbody>\n    <tr>\n      <th>ipw</th>\n      <td>0.616012</td>\n      <td>1.141524</td>\n    </tr>\n    <tr>\n      <th>dm</th>\n      <td>0.646729</td>\n      <td>1.198445</td>\n    </tr>\n    <tr>\n      <th>dr</th>\n      <td>0.617077</td>\n      <td>1.143498</td>\n    </tr>\n  </tbody>\n</table>\n</div>"
     },
     "execution_count": 50,
     "metadata": {},
     "output_type": "execute_result"
    }
   ],
   "source": [
    "# estimate the policy value of IPWLearner with Logistic Regression\n",
    "estimated_policy_value_a, estimated_interval_a = ope.summarize_off_policy_estimates(\n",
    "    action_dist=action_dist,\n",
    "    estimated_rewards_by_reg_model=estimated_rewards_by_reg_model,\n",
    "    n_bootstrap_samples=1000, # number of resampling performed in bootstrap sampling\n",
    ")\n",
    "estimated_policy_value_a"
   ]
  },
  {
   "cell_type": "code",
   "execution_count": 51,
   "outputs": [
    {
     "data": {
      "text/plain": "         mean  95.0% CI (lower)  95.0% CI (upper)\nipw  0.615838          0.611613          0.620199\ndm   0.646725          0.646612          0.646833\ndr   0.617065          0.614157          0.620075",
      "text/html": "<div>\n<style scoped>\n    .dataframe tbody tr th:only-of-type {\n        vertical-align: middle;\n    }\n\n    .dataframe tbody tr th {\n        vertical-align: top;\n    }\n\n    .dataframe thead th {\n        text-align: right;\n    }\n</style>\n<table border=\"1\" class=\"dataframe\">\n  <thead>\n    <tr style=\"text-align: right;\">\n      <th></th>\n      <th>mean</th>\n      <th>95.0% CI (lower)</th>\n      <th>95.0% CI (upper)</th>\n    </tr>\n  </thead>\n  <tbody>\n    <tr>\n      <th>ipw</th>\n      <td>0.615838</td>\n      <td>0.611613</td>\n      <td>0.620199</td>\n    </tr>\n    <tr>\n      <th>dm</th>\n      <td>0.646725</td>\n      <td>0.646612</td>\n      <td>0.646833</td>\n    </tr>\n    <tr>\n      <th>dr</th>\n      <td>0.617065</td>\n      <td>0.614157</td>\n      <td>0.620075</td>\n    </tr>\n  </tbody>\n</table>\n</div>"
     },
     "execution_count": 51,
     "metadata": {},
     "output_type": "execute_result"
    }
   ],
   "source": [
    "estimated_interval_a"
   ],
   "metadata": {
    "collapsed": false,
    "pycharm": {
     "name": "#%%\n"
    }
   }
  },
  {
   "cell_type": "code",
   "execution_count": 52,
   "outputs": [
    {
     "data": {
      "text/plain": "<Figure size 576x432 with 1 Axes>",
      "image/png": "[encoded data removed]"
     },
     "metadata": {},
     "output_type": "display_data"
    }
   ],
   "source": [
    "# visualize the estimated policy values of IPWLearner with Logistic Regression\n",
    "ope.visualize_off_policy_estimates(\n",
    "    action_dist=action_dist,\n",
    "    estimated_rewards_by_reg_model=estimated_rewards_by_reg_model,\n",
    "    n_bootstrap_samples=1000, # number of resampling performed in bootstrap sampling\n",
    "    random_state=12345,\n",
    ")"
   ],
   "metadata": {
    "collapsed": false,
    "pycharm": {
     "name": "#%%\n"
    }
   }
  },
  {
   "cell_type": "code",
   "execution_count": 56,
   "metadata": {
    "pycharm": {
     "name": "#%%\n"
    },
    "tags": []
   },
   "outputs": [
    {
     "data": {
      "text/plain": "     estimated_policy_value  relative_estimated_policy_value\nipw                0.499848                         0.926262\ndm                 0.526239                         0.975167\ndr                 0.499918                         0.926392",
      "text/html": "<div>\n<style scoped>\n    .dataframe tbody tr th:only-of-type {\n        vertical-align: middle;\n    }\n\n    .dataframe tbody tr th {\n        vertical-align: top;\n    }\n\n    .dataframe thead th {\n        text-align: right;\n    }\n</style>\n<table border=\"1\" class=\"dataframe\">\n  <thead>\n    <tr style=\"text-align: right;\">\n      <th></th>\n      <th>estimated_policy_value</th>\n      <th>relative_estimated_policy_value</th>\n    </tr>\n  </thead>\n  <tbody>\n    <tr>\n      <th>ipw</th>\n      <td>0.499848</td>\n      <td>0.926262</td>\n    </tr>\n    <tr>\n      <th>dm</th>\n      <td>0.526239</td>\n      <td>0.975167</td>\n    </tr>\n    <tr>\n      <th>dr</th>\n      <td>0.499918</td>\n      <td>0.926392</td>\n    </tr>\n  </tbody>\n</table>\n</div>"
     },
     "execution_count": 56,
     "metadata": {},
     "output_type": "execute_result"
    }
   ],
   "source": [
    "# estimate the policy value of Uniform Random\n",
    "estimated_policy_value_c, estimated_interval_c = ope.summarize_off_policy_estimates(\n",
    "    action_dist=action_dist_random,\n",
    "    estimated_rewards_by_reg_model=estimated_rewards_by_reg_model,\n",
    "    n_bootstrap_samples=1000, # number of resampling performed in bootstrap sampling\n",
    ")\n",
    "estimated_policy_value_c"
   ]
  },
  {
   "cell_type": "code",
   "execution_count": 57,
   "outputs": [
    {
     "data": {
      "text/plain": "         mean  95.0% CI (lower)  95.0% CI (upper)\nipw  0.499843          0.498935          0.500835\ndm   0.526240          0.526120          0.526350\ndr   0.499921          0.498921          0.500887",
      "text/html": "<div>\n<style scoped>\n    .dataframe tbody tr th:only-of-type {\n        vertical-align: middle;\n    }\n\n    .dataframe tbody tr th {\n        vertical-align: top;\n    }\n\n    .dataframe thead th {\n        text-align: right;\n    }\n</style>\n<table border=\"1\" class=\"dataframe\">\n  <thead>\n    <tr style=\"text-align: right;\">\n      <th></th>\n      <th>mean</th>\n      <th>95.0% CI (lower)</th>\n      <th>95.0% CI (upper)</th>\n    </tr>\n  </thead>\n  <tbody>\n    <tr>\n      <th>ipw</th>\n      <td>0.499843</td>\n      <td>0.498935</td>\n      <td>0.500835</td>\n    </tr>\n    <tr>\n      <th>dm</th>\n      <td>0.526240</td>\n      <td>0.526120</td>\n      <td>0.526350</td>\n    </tr>\n    <tr>\n      <th>dr</th>\n      <td>0.499921</td>\n      <td>0.498921</td>\n      <td>0.500887</td>\n    </tr>\n  </tbody>\n</table>\n</div>"
     },
     "execution_count": 57,
     "metadata": {},
     "output_type": "execute_result"
    }
   ],
   "source": [
    "estimated_interval_c"
   ],
   "metadata": {
    "collapsed": false,
    "pycharm": {
     "name": "#%%\n"
    }
   }
  },
  {
   "cell_type": "code",
   "execution_count": 58,
   "outputs": [
    {
     "data": {
      "text/plain": "<Figure size 576x432 with 1 Axes>",
      "image/png": "[encoded data removed]"
     },
     "metadata": {},
     "output_type": "display_data"
    }
   ],
   "source": [
    "# visualize the estimated policy values of Uniform Random\n",
    "ope.visualize_off_policy_estimates(\n",
    "    action_dist=action_dist_random,\n",
    "    estimated_rewards_by_reg_model=estimated_rewards_by_reg_model,\n",
    "    n_bootstrap_samples=1000, # number of resampling performed in bootstrap sampling\n",
    "    random_state=12345,\n",
    ")"
   ],
   "metadata": {
    "collapsed": false,
    "pycharm": {
     "name": "#%%\n"
    }
   }
  },
  {
   "cell_type": "markdown",
   "metadata": {
    "pycharm": {
     "name": "#%% md\n"
    }
   },
   "source": [
    "OPE procedure estimates that IPWLearners outperform the Uniform Random policy by a large margin.\n",
    "\n",
    "Moreover, IPWLearner with Logistic Regression seems to be the best one."
   ]
  },
  {
   "cell_type": "code",
   "execution_count": null,
   "outputs": [],
   "source": [],
   "metadata": {
    "collapsed": false,
    "pycharm": {
     "name": "#%%\n"
    }
   }
  },
  {
   "cell_type": "markdown",
   "metadata": {
    "pycharm": {
     "name": "#%% md\n"
    }
   },
   "source": [
    "## (4) Evaluation of OPE estimators\n",
    "Our final step is **the evaluation of OPE**, which evaluates and compares the estimation accuracy of OPE estimators."
   ]
  },
  {
   "cell_type": "markdown",
   "metadata": {
    "pycharm": {
     "name": "#%% md\n"
    }
   },
   "source": [
    "### (4-1) Approximate the Ground-truth Policy Value \n",
    "With synthetic data, we can calculate the ground-truth policy value of the evaluation policies as follows.\n",
    "\n",
    "$$V(\\pi_e) \\approx \\frac{1}{|\\mathcal{D}_{te}|} \\sum_{i=1}^{|\\mathcal{D}_{te}|} \\mathbb{E}_{a \\sim \\pi_e(a|x_i)} [q(x_i, a)], \\; \\, where \\; \\, q(x,a) := \\mathbb{E}_{r \\sim p(r|x,a)} [r]$$"
   ]
  },
  {
   "cell_type": "code",
   "execution_count": 71,
   "metadata": {
    "pycharm": {
     "name": "#%%\n"
    },
    "tags": []
   },
   "outputs": [
    {
     "name": "stdout",
     "output_type": "stream",
     "text": [
      "policy value of BerTS: 0.4999101555078668\n",
      "policy value of Unifrom Random: 0.4999101555078668\n"
     ]
    }
   ],
   "source": [
    "# we first calculate the true policy values of the three evaluation policies based on the expected rewards of the test data\n",
    "policy_names = [\"BerTS\", \"Unifrom Random\"]\n",
    "\n",
    "for name, action_dist in zip(policy_names, [action_dist, action_dist_random]):\n",
    "    true_policy_value = dataset.calc_ground_truth_policy_value(\n",
    "        expected_reward=bandit_feedback_train[\"expected_reward\"],\n",
    "        action_dist=action_dist,\n",
    "    )\n",
    "    print(f'policy value of {name}: {true_policy_value}')"
   ]
  },
  {
   "cell_type": "markdown",
   "metadata": {
    "pycharm": {
     "name": "#%% md\n"
    }
   },
   "source": [
    "In fact, IPWLearner with Logistic Regression reveals the best performance among the three evaluation policies.\n",
    "\n",
    "Using the true policy values, we evaluate the estimation accuracy of the OPE estimators."
   ]
  },
  {
   "cell_type": "markdown",
   "metadata": {
    "pycharm": {
     "name": "#%% md\n"
    }
   },
   "source": [
    "### (4-2) Evaluation of OPE\n",
    "\n",
    "We can then evaluate the estimation performance of OPE estimators by comparing the estimated policy values of the evaluation with its ground-truth as follows.\n",
    "\n",
    "- $\\textit{relative-ee} (\\hat{V}; \\mathcal{D}_b) := \\left| \\frac{V(\\pi_e) - \\hat{V} (\\pi_e; \\mathcal{D}_b)}{V(\\pi_e)} \\right|$ (relative estimation error; relative-ee)\n",
    "- $\\textit{SE} (\\hat{V}; \\mathcal{D}_b) := \\left( V(\\pi_e) - \\hat{V} (\\pi_e; \\mathcal{D}_b) \\right)^2$ (squared error; se)"
   ]
  },
  {
   "cell_type": "code",
   "execution_count": 65,
   "metadata": {
    "pycharm": {
     "name": "#%%\n"
    }
   },
   "outputs": [
    {
     "data": {
      "text/plain": "     relative-ee\nipw     0.000125\ndm      0.052667\ndr      0.000016",
      "text/html": "<div>\n<style scoped>\n    .dataframe tbody tr th:only-of-type {\n        vertical-align: middle;\n    }\n\n    .dataframe tbody tr th {\n        vertical-align: top;\n    }\n\n    .dataframe thead th {\n        text-align: right;\n    }\n</style>\n<table border=\"1\" class=\"dataframe\">\n  <thead>\n    <tr style=\"text-align: right;\">\n      <th></th>\n      <th>relative-ee</th>\n    </tr>\n  </thead>\n  <tbody>\n    <tr>\n      <th>ipw</th>\n      <td>0.000125</td>\n    </tr>\n    <tr>\n      <th>dm</th>\n      <td>0.052667</td>\n    </tr>\n    <tr>\n      <th>dr</th>\n      <td>0.000016</td>\n    </tr>\n  </tbody>\n</table>\n</div>"
     },
     "execution_count": 65,
     "metadata": {},
     "output_type": "execute_result"
    }
   ],
   "source": [
    "# evaluate the estimation performances of OPE estimators for IPWLearner with Logistic Regression\n",
    "# `summarize_estimators_comparison` returns a pandas dataframe containing estimation performances of given estimators \n",
    "relative_ee_for_berts = ope.summarize_estimators_comparison(\n",
    "    ground_truth_policy_value=dataset.calc_ground_truth_policy_value(\n",
    "        expected_reward=bandit_feedback_train[\"expected_reward\"],\n",
    "        action_dist=action_dist,\n",
    "    ),\n",
    "    action_dist=action_dist,\n",
    "    estimated_rewards_by_reg_model=estimated_rewards_by_reg_model,\n",
    "    metric=\"relative-ee\", # \"relative-ee\" (relative estimation error) or \"se\" (squared error)\n",
    ")\n",
    "\n",
    "# estimation performance of the estimators (lower means accurate)\n",
    "relative_ee_for_berts"
   ]
  },
  {
   "cell_type": "code",
   "execution_count": 70,
   "metadata": {
    "pycharm": {
     "name": "#%%\n"
    }
   },
   "outputs": [
    {
     "data": {
      "text/plain": "     relative-ee\nipw     0.000125\ndm      0.052667\ndr      0.000016",
      "text/html": "<div>\n<style scoped>\n    .dataframe tbody tr th:only-of-type {\n        vertical-align: middle;\n    }\n\n    .dataframe tbody tr th {\n        vertical-align: top;\n    }\n\n    .dataframe thead th {\n        text-align: right;\n    }\n</style>\n<table border=\"1\" class=\"dataframe\">\n  <thead>\n    <tr style=\"text-align: right;\">\n      <th></th>\n      <th>relative-ee</th>\n    </tr>\n  </thead>\n  <tbody>\n    <tr>\n      <th>ipw</th>\n      <td>0.000125</td>\n    </tr>\n    <tr>\n      <th>dm</th>\n      <td>0.052667</td>\n    </tr>\n    <tr>\n      <th>dr</th>\n      <td>0.000016</td>\n    </tr>\n  </tbody>\n</table>\n</div>"
     },
     "execution_count": 70,
     "metadata": {},
     "output_type": "execute_result"
    }
   ],
   "source": [
    "# evaluate the estimation performance of OPE estimators for Uniform Random\n",
    "relative_ee_for_random = ope.summarize_estimators_comparison(\n",
    "    ground_truth_policy_value=dataset.calc_ground_truth_policy_value(\n",
    "        expected_reward=bandit_feedback_train[\"expected_reward\"],\n",
    "        action_dist=action_dist_random,\n",
    "    ),\n",
    "    action_dist=action_dist_random,\n",
    "    estimated_rewards_by_reg_model=estimated_rewards_by_reg_model,\n",
    "    metric=\"relative-ee\", # \"relative-ee\" (relative estimation error) or \"se\" (squared error)\n",
    ")\n",
    "\n",
    "# estimation performance of the estimators (lower means accurate)\n",
    "relative_ee_for_random"
   ]
  },
  {
   "cell_type": "markdown",
   "metadata": {
    "pycharm": {
     "name": "#%% md\n"
    }
   },
   "source": [
    "We can iterate the above process several times to get more reliable results.\n",
    "\n",
    "Please see [../examples/synthetic](../synthetic) for a more sophisticated example of the evaluation of OPE with synthetic bandit data."
   ]
  },
  {
   "cell_type": "markdown",
   "source": [
    "#### Trying `visualize_off_policy_estimates_of_multiple_policies`\n",
    "\n",
    "- this method only works with 2 OPE methodologies"
   ],
   "metadata": {
    "collapsed": false,
    "pycharm": {
     "name": "#%% md\n"
    }
   }
  },
  {
   "cell_type": "code",
   "execution_count": 69,
   "outputs": [
    {
     "data": {
      "text/plain": "<Figure size 576x892.8 with 2 Axes>",
      "image/png": "[encoded data removed]"
     },
     "metadata": {},
     "output_type": "display_data"
    }
   ],
   "source": [
    "ope1 = OffPolicyEvaluation(\n",
    "    bandit_feedback=bandit_feedback_train,\n",
    "    ope_estimators=[InverseProbabilityWeighting(), DoublyRobust()]\n",
    ")\n",
    "\n",
    "ope1.visualize_off_policy_estimates_of_multiple_policies(\n",
    "    policy_name_list=[\"BerTS\", \"Random\"],\n",
    "    action_dist_list=[action_dist, action_dist_random],\n",
    "    estimated_rewards_by_reg_model=estimated_rewards_by_reg_model,\n",
    "    n_bootstrap_samples=1000,\n",
    "    random_state=12345,\n",
    ")"
   ],
   "metadata": {
    "collapsed": false,
    "pycharm": {
     "name": "#%%\n"
    }
   }
  }
 ],
 "metadata": {
  "kernelspec": {
   "display_name": "Python 3.9.12 ('ope-obp')",
   "language": "python",
   "name": "python3"
  },
  "language_info": {
   "codemirror_mode": {
    "name": "ipython",
    "version": 3
   },
   "file_extension": ".py",
   "mimetype": "text/x-python",
   "name": "python",
   "nbconvert_exporter": "python",
   "pygments_lexer": "ipython3",
   "version": "3.9.12"
  },
  "orig_nbformat": 2,
  "vscode": {
   "interpreter": {
    "hash": "bd574b0f60cd3b58491a52392426e43b81d6caa15675820166c217b759f8fd8d"
   }
  }
 },
 "nbformat": 4,
 "nbformat_minor": 2
}