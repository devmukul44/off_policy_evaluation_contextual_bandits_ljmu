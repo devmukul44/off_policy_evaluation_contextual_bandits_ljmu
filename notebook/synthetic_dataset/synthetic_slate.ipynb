{
 "cells": [
  {
   "cell_type": "markdown",
   "metadata": {
    "pycharm": {
     "name": "#%% md\n"
    }
   },
   "source": [
    "# Off Policy Learning - Evaluation with Synthetic Slate Bandit Data\n",
    "---\n",
    "This notebook provides an example of conducting OPE of several different evaluation policies with synthetic slate bandit data.\n",
    "\n",
    "Our example with synthetic bandit data contains the following four major steps:\n",
    "- (1) Synthetic Slate Data Generation\n",
    "- (2) Defining Evaluation Policies\n",
    "- (3) Off-Policy Evaluation\n",
    "- (4) Evaluation of OPE Estimators\n",
    "\n",
    "The second step could be replaced by some Off-Policy Learning (OPL) method, but obp still does not implement any OPL module for slate bandit data. Implementing OPL for slate bandits is our future work."
   ]
  },
  {
   "cell_type": "code",
   "execution_count": 3,
   "metadata": {
    "pycharm": {
     "name": "#%%\n"
    }
   },
   "outputs": [],
   "source": [
    "# needed when using Google Colab\n",
    "# !pip install obp"
   ]
  },
  {
   "cell_type": "code",
   "execution_count": 4,
   "metadata": {
    "pycharm": {
     "name": "#%%\n"
    }
   },
   "outputs": [],
   "source": [
    "import numpy as np\n",
    "import pandas as pd\n",
    "# import open bandit pipeline (obp)\n",
    "import obp\n",
    "\n",
    "from obp.ope import (\n",
    "    SlateStandardIPS,\n",
    "    SlateIndependentIPS,\n",
    "    SlateRewardInteractionIPS,\n",
    "    SlateOffPolicyEvaluation\n",
    ")\n",
    "\n",
    "from obp.dataset import (\n",
    "    logistic_reward_function,\n",
    "    SyntheticSlateBanditDataset,\n",
    ")"
   ]
  },
  {
   "cell_type": "code",
   "execution_count": 5,
   "metadata": {
    "pycharm": {
     "name": "#%%\n"
    }
   },
   "outputs": [],
   "source": [
    "from itertools import product\n",
    "from copy import deepcopy"
   ]
  },
  {
   "cell_type": "code",
   "execution_count": 6,
   "metadata": {
    "pycharm": {
     "name": "#%%\n"
    }
   },
   "outputs": [],
   "source": [
    "import matplotlib.pyplot as plt\n",
    "import seaborn as sns"
   ]
  },
  {
   "cell_type": "code",
   "execution_count": 7,
   "metadata": {
    "pycharm": {
     "name": "#%%\n"
    }
   },
   "outputs": [
    {
     "name": "stdout",
     "output_type": "stream",
     "text": [
      "0.5.5\n"
     ]
    }
   ],
   "source": [
    "# obp version\n",
    "print(obp.__version__)"
   ]
  },
  {
   "cell_type": "code",
   "execution_count": 8,
   "metadata": {
    "pycharm": {
     "name": "#%%\n"
    }
   },
   "outputs": [],
   "source": [
    "import warnings\n",
    "warnings.filterwarnings('ignore')"
   ]
  },
  {
   "cell_type": "code",
   "execution_count": null,
   "metadata": {
    "pycharm": {
     "name": "#%%\n"
    }
   },
   "outputs": [],
   "source": []
  },
  {
   "cell_type": "code",
   "execution_count": 32,
   "metadata": {
    "tags": [],
    "pycharm": {
     "name": "#%%\n"
    }
   },
   "outputs": [],
   "source": [
    "# generate a synthetic bandit dataset with 10 actions\n",
    "# we use `logistic_reward_function` as the reward function and `linear_behavior_policy_logit` as the behavior policy.\n",
    "# one can define their own reward function and behavior policy such as nonlinear ones. \n",
    "\n",
    "n_unique_action=10\n",
    "len_list = 3\n",
    "dim_context = 2\n",
    "reward_type = \"binary\"\n",
    "# reward_structure=\"cascade_additive\"\n",
    "reward_structure=\"independent\"\n",
    "click_model=None\n",
    "random_state=12345\n",
    "base_reward_function=logistic_reward_function\n",
    "# base_reward_function=None\n",
    "\n",
    "# obtain  test sets of synthetic logged bandit data\n",
    "n_rounds_test = 10000"
   ]
  },
  {
   "cell_type": "code",
   "execution_count": 33,
   "metadata": {
    "pycharm": {
     "name": "#%%\n"
    }
   },
   "outputs": [
    {
     "data": {
      "text/plain": "SyntheticSlateBanditDataset(n_unique_action=10, len_list=3, dim_context=2, reward_type='binary', reward_structure='independent', decay_function=<function exponential_decay_function at 0x7fd238ce09d0>, click_model=None, eta=1.0, base_reward_function=<function logistic_reward_function at 0x7fd1e8430a60>, behavior_policy_function=None, is_factorizable=False, random_state=12345, dataset_name='synthetic_slate_bandit_dataset')"
     },
     "execution_count": 33,
     "metadata": {},
     "output_type": "execute_result"
    }
   ],
   "source": [
    "# define Uniform Random Policy as a baseline behavior policy\n",
    "dataset_with_random_behavior = SyntheticSlateBanditDataset(\n",
    "    n_unique_action=n_unique_action,\n",
    "    len_list=len_list,\n",
    "    dim_context=dim_context,\n",
    "    reward_type=reward_type,\n",
    "    reward_structure=reward_structure,\n",
    "    click_model=click_model,\n",
    "    random_state=random_state,\n",
    "    behavior_policy_function=None,  # set to uniform random\n",
    "    base_reward_function=base_reward_function,\n",
    ")\n",
    "\n",
    "dataset_with_random_behavior"
   ]
  },
  {
   "cell_type": "code",
   "execution_count": 34,
   "outputs": [
    {
     "name": "stderr",
     "output_type": "stream",
     "text": [
      "[sample_action_and_obtain_pscore]: 100%|██████████| 10000/10000 [00:05<00:00, 1881.20it/s]\n"
     ]
    }
   ],
   "source": [
    "# compute the factual action choice probabilities for the test set of the synthetic logged bandit data\n",
    "bandit_feedback_with_random_behavior = dataset_with_random_behavior.obtain_batch_bandit_feedback(\n",
    "    n_rounds=n_rounds_test,\n",
    "    return_pscore_item_position=True,\n",
    ")"
   ],
   "metadata": {
    "collapsed": false,
    "pycharm": {
     "name": "#%%\n"
    }
   }
  },
  {
   "cell_type": "code",
   "execution_count": 35,
   "outputs": [
    {
     "data": {
      "text/plain": "{'n_rounds': 10000,\n 'n_unique_action': 10,\n 'slate_id': array([   0,    0,    0, ..., 9999, 9999, 9999]),\n 'context': array([[-0.20470766,  0.47894334],\n        [-0.51943872, -0.5557303 ],\n        [ 1.96578057,  1.39340583],\n        ...,\n        [ 0.3870405 ,  0.36272368],\n        [ 2.65737255,  1.47234137],\n        [ 1.03315414,  2.95046562]]),\n 'action_context': array([[1, 0, 0, 0, 0, 0, 0, 0, 0, 0],\n        [0, 1, 0, 0, 0, 0, 0, 0, 0, 0],\n        [0, 0, 1, 0, 0, 0, 0, 0, 0, 0],\n        [0, 0, 0, 1, 0, 0, 0, 0, 0, 0],\n        [0, 0, 0, 0, 1, 0, 0, 0, 0, 0],\n        [0, 0, 0, 0, 0, 1, 0, 0, 0, 0],\n        [0, 0, 0, 0, 0, 0, 1, 0, 0, 0],\n        [0, 0, 0, 0, 0, 0, 0, 1, 0, 0],\n        [0, 0, 0, 0, 0, 0, 0, 0, 1, 0],\n        [0, 0, 0, 0, 0, 0, 0, 0, 0, 1]]),\n 'action': array([8, 2, 5, ..., 9, 2, 0]),\n 'position': array([0, 1, 2, ..., 0, 1, 2]),\n 'reward': array([0, 0, 0, ..., 1, 0, 1]),\n 'expected_reward_factual': array([0.1553, 0.6787, 0.5024, ..., 0.3088, 0.6406, 0.581 ], dtype=float16),\n 'pscore_cascade': array([0.1       , 0.01111111, 0.00138889, ..., 0.1       , 0.01111111,\n        0.00138889]),\n 'pscore': array([0.00138889, 0.00138889, 0.00138889, ..., 0.00138889, 0.00138889,\n        0.00138889]),\n 'pscore_item_position': array([0.1, 0.1, 0.1, ..., 0.1, 0.1, 0.1])}"
     },
     "execution_count": 35,
     "metadata": {},
     "output_type": "execute_result"
    }
   ],
   "source": [
    "bandit_feedback_with_random_behavior"
   ],
   "metadata": {
    "collapsed": false,
    "pycharm": {
     "name": "#%%\n"
    }
   }
  },
  {
   "cell_type": "code",
   "execution_count": 36,
   "outputs": [
    {
     "data": {
      "text/plain": "dict_keys(['n_rounds', 'n_unique_action', 'slate_id', 'context', 'action_context', 'action', 'position', 'reward', 'expected_reward_factual', 'pscore_cascade', 'pscore', 'pscore_item_position'])"
     },
     "execution_count": 36,
     "metadata": {},
     "output_type": "execute_result"
    }
   ],
   "source": [
    "bandit_feedback_with_random_behavior.keys()"
   ],
   "metadata": {
    "collapsed": false,
    "pycharm": {
     "name": "#%%\n"
    }
   }
  },
  {
   "cell_type": "code",
   "execution_count": 37,
   "outputs": [
    {
     "data": {
      "text/plain": "array([   0,    0,    0, ..., 9999, 9999, 9999])"
     },
     "execution_count": 37,
     "metadata": {},
     "output_type": "execute_result"
    }
   ],
   "source": [
    "bandit_feedback_with_random_behavior['slate_id']"
   ],
   "metadata": {
    "collapsed": false,
    "pycharm": {
     "name": "#%%\n"
    }
   }
  },
  {
   "cell_type": "code",
   "execution_count": 57,
   "outputs": [
    {
     "name": "stdout",
     "output_type": "stream",
     "text": [
      "(10000, 2)\n"
     ]
    },
    {
     "data": {
      "text/plain": "array([[-0.20470766,  0.47894334],\n       [-0.51943872, -0.5557303 ],\n       [ 1.96578057,  1.39340583],\n       ...,\n       [ 0.3870405 ,  0.36272368],\n       [ 2.65737255,  1.47234137],\n       [ 1.03315414,  2.95046562]])"
     },
     "execution_count": 57,
     "metadata": {},
     "output_type": "execute_result"
    }
   ],
   "source": [
    "print(bandit_feedback_with_random_behavior['context'].shape)\n",
    "\n",
    "bandit_feedback_with_random_behavior['context']"
   ],
   "metadata": {
    "collapsed": false,
    "pycharm": {
     "name": "#%%\n"
    }
   }
  },
  {
   "cell_type": "code",
   "execution_count": 39,
   "outputs": [
    {
     "data": {
      "text/plain": "array([[1, 0, 0, 0, 0, 0, 0, 0, 0, 0],\n       [0, 1, 0, 0, 0, 0, 0, 0, 0, 0],\n       [0, 0, 1, 0, 0, 0, 0, 0, 0, 0],\n       [0, 0, 0, 1, 0, 0, 0, 0, 0, 0],\n       [0, 0, 0, 0, 1, 0, 0, 0, 0, 0],\n       [0, 0, 0, 0, 0, 1, 0, 0, 0, 0],\n       [0, 0, 0, 0, 0, 0, 1, 0, 0, 0],\n       [0, 0, 0, 0, 0, 0, 0, 1, 0, 0],\n       [0, 0, 0, 0, 0, 0, 0, 0, 1, 0],\n       [0, 0, 0, 0, 0, 0, 0, 0, 0, 1]])"
     },
     "execution_count": 39,
     "metadata": {},
     "output_type": "execute_result"
    }
   ],
   "source": [
    "bandit_feedback_with_random_behavior['action_context']"
   ],
   "metadata": {
    "collapsed": false,
    "pycharm": {
     "name": "#%%\n"
    }
   }
  },
  {
   "cell_type": "code",
   "execution_count": 40,
   "outputs": [
    {
     "data": {
      "text/plain": "array([8, 2, 5, ..., 9, 2, 0])"
     },
     "execution_count": 40,
     "metadata": {},
     "output_type": "execute_result"
    }
   ],
   "source": [
    "bandit_feedback_with_random_behavior['action']"
   ],
   "metadata": {
    "collapsed": false,
    "pycharm": {
     "name": "#%%\n"
    }
   }
  },
  {
   "cell_type": "code",
   "execution_count": 41,
   "outputs": [
    {
     "data": {
      "text/plain": "array([0, 1, 2, ..., 0, 1, 2])"
     },
     "execution_count": 41,
     "metadata": {},
     "output_type": "execute_result"
    }
   ],
   "source": [
    "bandit_feedback_with_random_behavior['position']"
   ],
   "metadata": {
    "collapsed": false,
    "pycharm": {
     "name": "#%%\n"
    }
   }
  },
  {
   "cell_type": "code",
   "execution_count": 42,
   "outputs": [
    {
     "data": {
      "text/plain": "array([0, 0, 0, ..., 1, 0, 1])"
     },
     "execution_count": 42,
     "metadata": {},
     "output_type": "execute_result"
    }
   ],
   "source": [
    "bandit_feedback_with_random_behavior['reward']"
   ],
   "metadata": {
    "collapsed": false,
    "pycharm": {
     "name": "#%%\n"
    }
   }
  },
  {
   "cell_type": "code",
   "execution_count": 43,
   "outputs": [
    {
     "data": {
      "text/plain": "array([0.1553, 0.6787, 0.5024, ..., 0.3088, 0.6406, 0.581 ], dtype=float16)"
     },
     "execution_count": 43,
     "metadata": {},
     "output_type": "execute_result"
    }
   ],
   "source": [
    "bandit_feedback_with_random_behavior['expected_reward_factual']"
   ],
   "metadata": {
    "collapsed": false,
    "pycharm": {
     "name": "#%%\n"
    }
   }
  },
  {
   "cell_type": "code",
   "execution_count": 61,
   "outputs": [
    {
     "data": {
      "text/plain": "array([0.1       , 0.01111111, 0.00138889, ..., 0.1       , 0.01111111,\n       0.00138889])"
     },
     "execution_count": 61,
     "metadata": {},
     "output_type": "execute_result"
    }
   ],
   "source": [
    "bandit_feedback_with_random_behavior['pscore_cascade']"
   ],
   "metadata": {
    "collapsed": false,
    "pycharm": {
     "name": "#%%\n"
    }
   }
  },
  {
   "cell_type": "code",
   "execution_count": 60,
   "outputs": [
    {
     "data": {
      "text/plain": "0.0375"
     },
     "execution_count": 60,
     "metadata": {},
     "output_type": "execute_result"
    }
   ],
   "source": [
    "(0.100000 + 0.011111 + 0.001389)/3"
   ],
   "metadata": {
    "collapsed": false,
    "pycharm": {
     "name": "#%%\n"
    }
   }
  },
  {
   "cell_type": "code",
   "execution_count": 59,
   "outputs": [
    {
     "data": {
      "text/plain": "array([0.00138889, 0.00138889, 0.00138889, ..., 0.00138889, 0.00138889,\n       0.00138889])"
     },
     "execution_count": 59,
     "metadata": {},
     "output_type": "execute_result"
    }
   ],
   "source": [
    "bandit_feedback_with_random_behavior['pscore']"
   ],
   "metadata": {
    "collapsed": false,
    "pycharm": {
     "name": "#%%\n"
    }
   }
  },
  {
   "cell_type": "code",
   "execution_count": 48,
   "outputs": [
    {
     "data": {
      "text/plain": "0.1"
     },
     "execution_count": 48,
     "metadata": {},
     "output_type": "execute_result"
    }
   ],
   "source": [
    "1/10"
   ],
   "metadata": {
    "collapsed": false,
    "pycharm": {
     "name": "#%%\n"
    }
   }
  },
  {
   "cell_type": "code",
   "execution_count": 58,
   "outputs": [
    {
     "data": {
      "text/plain": "array([0.1, 0.1, 0.1, ..., 0.1, 0.1, 0.1])"
     },
     "execution_count": 58,
     "metadata": {},
     "output_type": "execute_result"
    }
   ],
   "source": [
    "bandit_feedback_with_random_behavior['pscore_item_position']"
   ],
   "metadata": {
    "collapsed": false,
    "pycharm": {
     "name": "#%%\n"
    }
   }
  },
  {
   "cell_type": "code",
   "execution_count": null,
   "outputs": [],
   "source": [],
   "metadata": {
    "collapsed": false,
    "pycharm": {
     "name": "#%%\n"
    }
   }
  },
  {
   "cell_type": "code",
   "execution_count": null,
   "outputs": [],
   "source": [],
   "metadata": {
    "collapsed": false,
    "pycharm": {
     "name": "#%%\n"
    }
   }
  },
  {
   "cell_type": "code",
   "execution_count": null,
   "outputs": [],
   "source": [],
   "metadata": {
    "collapsed": false,
    "pycharm": {
     "name": "#%%\n"
    }
   }
  },
  {
   "cell_type": "code",
   "execution_count": null,
   "outputs": [],
   "source": [],
   "metadata": {
    "collapsed": false,
    "pycharm": {
     "name": "#%%\n"
    }
   }
  },
  {
   "cell_type": "code",
   "execution_count": null,
   "outputs": [],
   "source": [],
   "metadata": {
    "collapsed": false,
    "pycharm": {
     "name": "#%%\n"
    }
   }
  },
  {
   "cell_type": "code",
   "execution_count": 62,
   "outputs": [
    {
     "name": "stdout",
     "output_type": "stream",
     "text": [
      "1.4995\n"
     ]
    }
   ],
   "source": [
    "# print policy value\n",
    "random_policy_value = dataset_with_random_behavior.calc_on_policy_policy_value(\n",
    "    reward=bandit_feedback_with_random_behavior[\"reward\"],\n",
    "    slate_id=bandit_feedback_with_random_behavior[\"slate_id\"],\n",
    ")\n",
    "print(random_policy_value)"
   ],
   "metadata": {
    "collapsed": false,
    "pycharm": {
     "name": "#%%\n"
    }
   }
  },
  {
   "cell_type": "code",
   "execution_count": null,
   "metadata": {
    "pycharm": {
     "name": "#%%\n"
    }
   },
   "outputs": [],
   "source": []
  },
  {
   "cell_type": "markdown",
   "metadata": {
    "pycharm": {
     "name": "#%% md\n"
    }
   },
   "source": [
    "## (2) Evaluation Policy Definition (Off-Policy Learning)\n",
    "After generating synthetic slate bandit data, we now define some evaluation policies in the following."
   ]
  },
  {
   "cell_type": "code",
   "execution_count": 30,
   "metadata": {
    "pycharm": {
     "name": "#%%\n"
    }
   },
   "outputs": [],
   "source": [
    "random_policy_logit_ = np.zeros((n_rounds_test, n_unique_action))"
   ]
  },
  {
   "cell_type": "code",
   "execution_count": 63,
   "metadata": {
    "pycharm": {
     "name": "#%%\n"
    }
   },
   "outputs": [
    {
     "data": {
      "text/plain": "array([[0.33506361, 0.56637927, 0.67872397, ..., 0.5056741 , 0.15524333,\n        0.22328837],\n       [0.51949486, 0.47461193, 0.64096854, ..., 0.72710054, 0.26648861,\n        0.28936731],\n       [0.53434843, 0.77051311, 0.86187024, ..., 0.11777036, 0.10051103,\n        0.2052572 ],\n       ...,\n       [0.47419671, 0.60600501, 0.73857881, ..., 0.43431786, 0.17040603,\n        0.24212954],\n       [0.64742235, 0.81114097, 0.89782877, ..., 0.07539067, 0.09916266,\n        0.21255968],\n       [0.10676848, 0.78695772, 0.80059202, ..., 0.07111573, 0.03573891,\n        0.11642714]])"
     },
     "execution_count": 63,
     "metadata": {},
     "output_type": "execute_result"
    }
   ],
   "source": [
    "base_expected_reward = dataset_with_random_behavior.base_reward_function(\n",
    "    context=bandit_feedback_with_random_behavior[\"context\"],\n",
    "    action_context=dataset_with_random_behavior.action_context,\n",
    "    random_state=dataset_with_random_behavior.random_state,\n",
    ")\n",
    "\n",
    "base_expected_reward"
   ]
  },
  {
   "cell_type": "code",
   "execution_count": 64,
   "metadata": {
    "pycharm": {
     "name": "#%%\n"
    }
   },
   "outputs": [],
   "source": [
    "optimal_policy_logit_ = base_expected_reward * 3\n",
    "anti_optimal_policy_logit_ = -3 * base_expected_reward"
   ]
  },
  {
   "cell_type": "code",
   "execution_count": 65,
   "outputs": [
    {
     "data": {
      "text/plain": "array([[1.00519083, 1.6991378 , 2.03617191, ..., 1.51702229, 0.46572999,\n        0.66986512],\n       [1.55848457, 1.4238358 , 1.92290561, ..., 2.18130163, 0.79946583,\n        0.86810194],\n       [1.60304528, 2.31153932, 2.58561073, ..., 0.35331108, 0.3015331 ,\n        0.61577161],\n       ...,\n       [1.42259013, 1.81801504, 2.21573642, ..., 1.30295359, 0.51121809,\n        0.72638862],\n       [1.94226706, 2.4334229 , 2.6934863 , ..., 0.22617201, 0.29748798,\n        0.63767905],\n       [0.32030545, 2.36087317, 2.40177605, ..., 0.21334718, 0.10721672,\n        0.34928143]])"
     },
     "execution_count": 65,
     "metadata": {},
     "output_type": "execute_result"
    }
   ],
   "source": [
    "optimal_policy_logit_"
   ],
   "metadata": {
    "collapsed": false,
    "pycharm": {
     "name": "#%%\n"
    }
   }
  },
  {
   "cell_type": "code",
   "execution_count": 66,
   "outputs": [
    {
     "data": {
      "text/plain": "array([[-1.00519083, -1.6991378 , -2.03617191, ..., -1.51702229,\n        -0.46572999, -0.66986512],\n       [-1.55848457, -1.4238358 , -1.92290561, ..., -2.18130163,\n        -0.79946583, -0.86810194],\n       [-1.60304528, -2.31153932, -2.58561073, ..., -0.35331108,\n        -0.3015331 , -0.61577161],\n       ...,\n       [-1.42259013, -1.81801504, -2.21573642, ..., -1.30295359,\n        -0.51121809, -0.72638862],\n       [-1.94226706, -2.4334229 , -2.6934863 , ..., -0.22617201,\n        -0.29748798, -0.63767905],\n       [-0.32030545, -2.36087317, -2.40177605, ..., -0.21334718,\n        -0.10721672, -0.34928143]])"
     },
     "execution_count": 66,
     "metadata": {},
     "output_type": "execute_result"
    }
   ],
   "source": [
    "anti_optimal_policy_logit_"
   ],
   "metadata": {
    "collapsed": false,
    "pycharm": {
     "name": "#%%\n"
    }
   }
  },
  {
   "cell_type": "code",
   "execution_count": 33,
   "outputs": [],
   "source": [
    "# bandit_feedback_with_random_behavior[\"action\"].shape"
   ],
   "metadata": {
    "collapsed": false,
    "pycharm": {
     "name": "#%%\n"
    }
   }
  },
  {
   "cell_type": "code",
   "execution_count": 67,
   "metadata": {
    "pycharm": {
     "name": "#%%\n"
    }
   },
   "outputs": [
    {
     "name": "stderr",
     "output_type": "stream",
     "text": [
      "[obtain_pscore_given_evaluation_policy_logit]: 100%|██████████| 10000/10000 [00:18<00:00, 527.60it/s]\n"
     ]
    }
   ],
   "source": [
    "random_policy_pscores = dataset_with_random_behavior.obtain_pscore_given_evaluation_policy_logit(\n",
    "    action=bandit_feedback_with_random_behavior[\"action\"],\n",
    "    evaluation_policy_logit_=random_policy_logit_\n",
    ")"
   ]
  },
  {
   "cell_type": "code",
   "execution_count": 68,
   "outputs": [
    {
     "data": {
      "text/plain": "(array([0.00138889, 0.00138889, 0.00138889, ..., 0.00138889, 0.00138889,\n        0.00138889]),\n array([0.1, 0.1, 0.1, ..., 0.1, 0.1, 0.1]),\n array([0.1       , 0.01111111, 0.00138889, ..., 0.1       , 0.01111111,\n        0.00138889]))"
     },
     "execution_count": 68,
     "metadata": {},
     "output_type": "execute_result"
    }
   ],
   "source": [
    "random_policy_pscores"
   ],
   "metadata": {
    "collapsed": false,
    "pycharm": {
     "name": "#%%\n"
    }
   }
  },
  {
   "cell_type": "code",
   "execution_count": 23,
   "metadata": {
    "pycharm": {
     "name": "#%%\n"
    }
   },
   "outputs": [
    {
     "name": "stderr",
     "output_type": "stream",
     "text": [
      "[obtain_pscore_given_evaluation_policy_logit]: 100%|██████████| 10000/10000 [00:13<00:00, 759.05it/s]\n"
     ]
    }
   ],
   "source": [
    "optimal_policy_pscores = dataset_with_random_behavior.obtain_pscore_given_evaluation_policy_logit(\n",
    "    action=bandit_feedback_with_random_behavior[\"action\"],\n",
    "    evaluation_policy_logit_=optimal_policy_logit_\n",
    ")"
   ]
  },
  {
   "cell_type": "code",
   "execution_count": 24,
   "metadata": {
    "pycharm": {
     "name": "#%%\n"
    }
   },
   "outputs": [
    {
     "name": "stderr",
     "output_type": "stream",
     "text": [
      "[obtain_pscore_given_evaluation_policy_logit]: 100%|██████████| 10000/10000 [00:13<00:00, 753.20it/s]\n"
     ]
    }
   ],
   "source": [
    "anti_optimal_policy_pscores = dataset_with_random_behavior.obtain_pscore_given_evaluation_policy_logit(\n",
    "    action=bandit_feedback_with_random_behavior[\"action\"],\n",
    "    evaluation_policy_logit_=anti_optimal_policy_logit_\n",
    ")"
   ]
  },
  {
   "cell_type": "code",
   "execution_count": null,
   "metadata": {
    "pycharm": {
     "name": "#%%\n"
    }
   },
   "outputs": [],
   "source": []
  },
  {
   "cell_type": "markdown",
   "metadata": {
    "pycharm": {
     "name": "#%% md\n"
    }
   },
   "source": [
    "## (3) Off-Policy Evaluation (OPE)\n",
    "Our next step is OPE, which aims to estimate the performance of evaluation policies using logged bandit data and OPE estimators.\n",
    "\n",
    "Here, we use \n",
    "- `SlateStandardIPS` (SIPS)\n",
    "- `SlateIndependentIPS` (IIPS)\n",
    "- `SlateRewardInteractionIPS` (RIPS)\n",
    "\n",
    "and visualize the OPE results."
   ]
  },
  {
   "cell_type": "code",
   "execution_count": 25,
   "metadata": {
    "tags": [],
    "pycharm": {
     "name": "#%%\n"
    }
   },
   "outputs": [],
   "source": [
    "# estimate the policy value of the evaluation policies based on their action choice probabilities\n",
    "# it is possible to set multiple OPE estimators to the `ope_estimators` argument\n",
    "\n",
    "sips = SlateStandardIPS(len_list=len_list)\n",
    "iips = SlateIndependentIPS(len_list=len_list)\n",
    "rips = SlateRewardInteractionIPS(len_list=len_list)\n",
    "\n",
    "ope = SlateOffPolicyEvaluation(\n",
    "    bandit_feedback=bandit_feedback_with_random_behavior,\n",
    "    ope_estimators=[sips, iips, rips]\n",
    ")"
   ]
  },
  {
   "cell_type": "code",
   "execution_count": 69,
   "outputs": [
    {
     "name": "stdout",
     "output_type": "stream",
     "text": [
      "30000\n"
     ]
    },
    {
     "data": {
      "text/plain": "array([0.00138889, 0.00138889, 0.00138889, ..., 0.00138889, 0.00138889,\n       0.00138889])"
     },
     "execution_count": 69,
     "metadata": {},
     "output_type": "execute_result"
    }
   ],
   "source": [
    "print(np.sum(random_policy_pscores[0] == bandit_feedback_with_random_behavior['pscore']))\n",
    "\n",
    "random_policy_pscores[0]"
   ],
   "metadata": {
    "collapsed": false,
    "pycharm": {
     "name": "#%%\n"
    }
   }
  },
  {
   "cell_type": "code",
   "execution_count": 70,
   "outputs": [
    {
     "name": "stdout",
     "output_type": "stream",
     "text": [
      "30000\n"
     ]
    },
    {
     "data": {
      "text/plain": "array([0.1, 0.1, 0.1, ..., 0.1, 0.1, 0.1])"
     },
     "execution_count": 70,
     "metadata": {},
     "output_type": "execute_result"
    }
   ],
   "source": [
    "print(np.sum(random_policy_pscores[1] == bandit_feedback_with_random_behavior['pscore_item_position']))\n",
    "\n",
    "random_policy_pscores[1]"
   ],
   "metadata": {
    "collapsed": false,
    "pycharm": {
     "name": "#%%\n"
    }
   }
  },
  {
   "cell_type": "code",
   "execution_count": 71,
   "outputs": [
    {
     "name": "stdout",
     "output_type": "stream",
     "text": [
      "30000\n"
     ]
    },
    {
     "data": {
      "text/plain": "array([0.1       , 0.01111111, 0.00138889, ..., 0.1       , 0.01111111,\n       0.00138889])"
     },
     "execution_count": 71,
     "metadata": {},
     "output_type": "execute_result"
    }
   ],
   "source": [
    "print(np.sum(random_policy_pscores[2] == bandit_feedback_with_random_behavior['pscore_cascade']))\n",
    "random_policy_pscores[2]"
   ],
   "metadata": {
    "collapsed": false,
    "pycharm": {
     "name": "#%%\n"
    }
   }
  },
  {
   "cell_type": "code",
   "execution_count": 72,
   "metadata": {
    "pycharm": {
     "name": "#%%\n"
    }
   },
   "outputs": [
    {
     "data": {
      "text/plain": "      estimated_policy_value  relative_estimated_policy_value\nsips                  1.6461                              1.0\niips                  1.6461                              1.0\nrips                  1.6461                              1.0",
      "text/html": "<div>\n<style scoped>\n    .dataframe tbody tr th:only-of-type {\n        vertical-align: middle;\n    }\n\n    .dataframe tbody tr th {\n        vertical-align: top;\n    }\n\n    .dataframe thead th {\n        text-align: right;\n    }\n</style>\n<table border=\"1\" class=\"dataframe\">\n  <thead>\n    <tr style=\"text-align: right;\">\n      <th></th>\n      <th>estimated_policy_value</th>\n      <th>relative_estimated_policy_value</th>\n    </tr>\n  </thead>\n  <tbody>\n    <tr>\n      <th>sips</th>\n      <td>1.6461</td>\n      <td>1.0</td>\n    </tr>\n    <tr>\n      <th>iips</th>\n      <td>1.6461</td>\n      <td>1.0</td>\n    </tr>\n    <tr>\n      <th>rips</th>\n      <td>1.6461</td>\n      <td>1.0</td>\n    </tr>\n  </tbody>\n</table>\n</div>"
     },
     "execution_count": 72,
     "metadata": {},
     "output_type": "execute_result"
    }
   ],
   "source": [
    "estimated_policy_value_random, estimated_interval_random = ope.summarize_off_policy_estimates(\n",
    "    evaluation_policy_pscore=random_policy_pscores[0],\n",
    "    evaluation_policy_pscore_item_position=random_policy_pscores[1],\n",
    "    evaluation_policy_pscore_cascade=random_policy_pscores[2],\n",
    "    alpha=0.05,\n",
    "    n_bootstrap_samples=1000,\n",
    "    random_state=dataset_with_random_behavior.random_state,\n",
    ")\n",
    "\n",
    "estimated_interval_random[\"policy_name\"] = \"random\"\n",
    "\n",
    "\n",
    "estimated_policy_value_random\n"
   ]
  },
  {
   "cell_type": "code",
   "execution_count": 58,
   "outputs": [
    {
     "data": {
      "text/plain": "          mean  95.0% CI (lower)  95.0% CI (upper) policy_name\nsips  1.646317          1.631293          1.662105      random\niips  1.646317          1.631293          1.662105      random\nrips  1.646317          1.631293          1.662105      random",
      "text/html": "<div>\n<style scoped>\n    .dataframe tbody tr th:only-of-type {\n        vertical-align: middle;\n    }\n\n    .dataframe tbody tr th {\n        vertical-align: top;\n    }\n\n    .dataframe thead th {\n        text-align: right;\n    }\n</style>\n<table border=\"1\" class=\"dataframe\">\n  <thead>\n    <tr style=\"text-align: right;\">\n      <th></th>\n      <th>mean</th>\n      <th>95.0% CI (lower)</th>\n      <th>95.0% CI (upper)</th>\n      <th>policy_name</th>\n    </tr>\n  </thead>\n  <tbody>\n    <tr>\n      <th>sips</th>\n      <td>1.646317</td>\n      <td>1.631293</td>\n      <td>1.662105</td>\n      <td>random</td>\n    </tr>\n    <tr>\n      <th>iips</th>\n      <td>1.646317</td>\n      <td>1.631293</td>\n      <td>1.662105</td>\n      <td>random</td>\n    </tr>\n    <tr>\n      <th>rips</th>\n      <td>1.646317</td>\n      <td>1.631293</td>\n      <td>1.662105</td>\n      <td>random</td>\n    </tr>\n  </tbody>\n</table>\n</div>"
     },
     "execution_count": 58,
     "metadata": {},
     "output_type": "execute_result"
    }
   ],
   "source": [
    "estimated_interval_random"
   ],
   "metadata": {
    "collapsed": false,
    "pycharm": {
     "name": "#%%\n"
    }
   }
  },
  {
   "cell_type": "code",
   "execution_count": 59,
   "outputs": [
    {
     "data": {
      "text/plain": "<Figure size 576x432 with 1 Axes>",
      "image/png": "[encoded data removed]"
     },
     "metadata": {
      "needs_background": "light"
     },
     "output_type": "display_data"
    }
   ],
   "source": [
    "# visualize estimated policy values of Uniform Random by the three OPE estimators\n",
    "# and their 95% confidence intervals (estimated by nonparametric bootstrap method)\n",
    "ope.visualize_off_policy_estimates(\n",
    "    evaluation_policy_pscore=random_policy_pscores[0],\n",
    "    evaluation_policy_pscore_item_position=random_policy_pscores[1],\n",
    "    evaluation_policy_pscore_cascade=random_policy_pscores[2],\n",
    "    alpha=0.05,\n",
    "    n_bootstrap_samples=1000, # number of resampling performed in bootstrap sampling\n",
    "    random_state=dataset_with_random_behavior.random_state,\n",
    ")"
   ],
   "metadata": {
    "collapsed": false,
    "pycharm": {
     "name": "#%%\n"
    }
   }
  },
  {
   "cell_type": "code",
   "execution_count": 42,
   "metadata": {
    "pycharm": {
     "name": "#%%\n"
    }
   },
   "outputs": [
    {
     "data": {
      "text/plain": "          mean  95.0% CI (lower)  95.0% CI (upper) policy_name\nsips  1.629474          1.585960          1.675414     optimal\niips  1.674750          1.655507          1.692978     optimal\nrips  1.626834          1.594925          1.658154     optimal",
      "text/html": "<div>\n<style scoped>\n    .dataframe tbody tr th:only-of-type {\n        vertical-align: middle;\n    }\n\n    .dataframe tbody tr th {\n        vertical-align: top;\n    }\n\n    .dataframe thead th {\n        text-align: right;\n    }\n</style>\n<table border=\"1\" class=\"dataframe\">\n  <thead>\n    <tr style=\"text-align: right;\">\n      <th></th>\n      <th>mean</th>\n      <th>95.0% CI (lower)</th>\n      <th>95.0% CI (upper)</th>\n      <th>policy_name</th>\n    </tr>\n  </thead>\n  <tbody>\n    <tr>\n      <th>sips</th>\n      <td>1.629474</td>\n      <td>1.585960</td>\n      <td>1.675414</td>\n      <td>optimal</td>\n    </tr>\n    <tr>\n      <th>iips</th>\n      <td>1.674750</td>\n      <td>1.655507</td>\n      <td>1.692978</td>\n      <td>optimal</td>\n    </tr>\n    <tr>\n      <th>rips</th>\n      <td>1.626834</td>\n      <td>1.594925</td>\n      <td>1.658154</td>\n      <td>optimal</td>\n    </tr>\n  </tbody>\n</table>\n</div>"
     },
     "execution_count": 42,
     "metadata": {},
     "output_type": "execute_result"
    }
   ],
   "source": [
    "_, estimated_interval_optimal = ope.summarize_off_policy_estimates(\n",
    "    evaluation_policy_pscore=optimal_policy_pscores[0],\n",
    "    evaluation_policy_pscore_item_position=optimal_policy_pscores[1],\n",
    "    evaluation_policy_pscore_cascade=optimal_policy_pscores[2],\n",
    "    alpha=0.05,\n",
    "    n_bootstrap_samples=1000,\n",
    "    random_state=dataset_with_random_behavior.random_state,\n",
    ")\n",
    "estimated_interval_optimal[\"policy_name\"] = \"optimal\"\n",
    "\n",
    "estimated_interval_optimal"
   ]
  },
  {
   "cell_type": "code",
   "execution_count": 43,
   "outputs": [
    {
     "data": {
      "text/plain": "<Figure size 576x432 with 1 Axes>",
      "image/png": "[encoded data removed]"
     },
     "metadata": {},
     "output_type": "display_data"
    }
   ],
   "source": [
    "# visualize estimated policy values of Optimal by the three OPE estimators\n",
    "# and their 95% confidence intervals (estimated by nonparametric bootstrap method)\n",
    "ope.visualize_off_policy_estimates(\n",
    "    evaluation_policy_pscore=optimal_policy_pscores[0],\n",
    "    evaluation_policy_pscore_item_position=optimal_policy_pscores[1],\n",
    "    evaluation_policy_pscore_cascade=optimal_policy_pscores[2],\n",
    "    alpha=0.05,\n",
    "    n_bootstrap_samples=1000, # number of resampling performed in bootstrap sampling\n",
    "    r`andom_state=dataset_with_random_behavior.random_state,\n",
    ")"
   ],
   "metadata": {
    "collapsed": false,
    "pycharm": {
     "name": "#%%\n"
    }
   }
  },
  {
   "cell_type": "code",
   "execution_count": 44,
   "metadata": {
    "pycharm": {
     "name": "#%%\n"
    }
   },
   "outputs": [
    {
     "data": {
      "text/plain": "          mean  95.0% CI (lower)  95.0% CI (upper)   policy_name\nsips  1.691671          1.647720          1.737568  anti-optimal\niips  1.602862          1.584707          1.623184  anti-optimal\nrips  1.687415          1.654940          1.722200  anti-optimal",
      "text/html": "<div>\n<style scoped>\n    .dataframe tbody tr th:only-of-type {\n        vertical-align: middle;\n    }\n\n    .dataframe tbody tr th {\n        vertical-align: top;\n    }\n\n    .dataframe thead th {\n        text-align: right;\n    }\n</style>\n<table border=\"1\" class=\"dataframe\">\n  <thead>\n    <tr style=\"text-align: right;\">\n      <th></th>\n      <th>mean</th>\n      <th>95.0% CI (lower)</th>\n      <th>95.0% CI (upper)</th>\n      <th>policy_name</th>\n    </tr>\n  </thead>\n  <tbody>\n    <tr>\n      <th>sips</th>\n      <td>1.691671</td>\n      <td>1.647720</td>\n      <td>1.737568</td>\n      <td>anti-optimal</td>\n    </tr>\n    <tr>\n      <th>iips</th>\n      <td>1.602862</td>\n      <td>1.584707</td>\n      <td>1.623184</td>\n      <td>anti-optimal</td>\n    </tr>\n    <tr>\n      <th>rips</th>\n      <td>1.687415</td>\n      <td>1.654940</td>\n      <td>1.722200</td>\n      <td>anti-optimal</td>\n    </tr>\n  </tbody>\n</table>\n</div>"
     },
     "execution_count": 44,
     "metadata": {},
     "output_type": "execute_result"
    }
   ],
   "source": [
    "_, estimated_interval_anti_optimal = ope.summarize_off_policy_estimates(\n",
    "    evaluation_policy_pscore=anti_optimal_policy_pscores[0],\n",
    "    evaluation_policy_pscore_item_position=anti_optimal_policy_pscores[1],\n",
    "    evaluation_policy_pscore_cascade=anti_optimal_policy_pscores[2],\n",
    "    alpha=0.05,\n",
    "    n_bootstrap_samples=1000,\n",
    "    random_state=dataset_with_random_behavior.random_state,\n",
    ")\n",
    "estimated_interval_anti_optimal[\"policy_name\"] = \"anti-optimal\"\n",
    "\n",
    "estimated_interval_anti_optimal"
   ]
  },
  {
   "cell_type": "code",
   "execution_count": 45,
   "outputs": [
    {
     "data": {
      "text/plain": "<Figure size 576x432 with 1 Axes>",
      "image/png": "[encoded data removed]"
     },
     "metadata": {},
     "output_type": "display_data"
    }
   ],
   "source": [
    "# visualize estimated policy values of Anti-optimal by the three OPE estimators\n",
    "# and their 95% confidence intervals (estimated by nonparametric bootstrap method)\n",
    "ope.visualize_off_policy_estimates(\n",
    "    evaluation_policy_pscore=anti_optimal_policy_pscores[0],\n",
    "    evaluation_policy_pscore_item_position=anti_optimal_policy_pscores[1],\n",
    "    evaluation_policy_pscore_cascade=anti_optimal_policy_pscores[2],\n",
    "    alpha=0.05,\n",
    "    n_bootstrap_samples=1000, # number of resampling performed in bootstrap sampling\n",
    "    random_state=dataset_with_random_behavior.random_state,\n",
    ")"
   ],
   "metadata": {
    "collapsed": false,
    "pycharm": {
     "name": "#%%\n"
    }
   }
  },
  {
   "cell_type": "code",
   "execution_count": null,
   "metadata": {
    "pycharm": {
     "name": "#%%\n"
    }
   },
   "outputs": [],
   "source": []
  },
  {
   "cell_type": "markdown",
   "metadata": {
    "pycharm": {
     "name": "#%% md\n"
    }
   },
   "source": [
    "## (4) Evaluation of OPE estimators\n",
    "Our final step is **the evaluation of OPE**, which evaluates and compares the estimation accuracy of OPE estimators.\n",
    "\n",
    "With synthetic slate bandit data, we can calculate the policy value of the evaluation policies. \n",
    "Therefore, we can compare the policy values estimated by OPE estimators with the ground-turths to evaluate the accuracy of OPE."
   ]
  },
  {
   "cell_type": "code",
   "execution_count": 47,
   "metadata": {
    "pycharm": {
     "name": "#%%\n"
    }
   },
   "outputs": [
    {
     "name": "stderr",
     "output_type": "stream",
     "text": [
      "[calc_ground_truth_policy_value (pscore)]: 100%|██████████| 10000/10000 [00:09<00:00, 1059.01it/s]\n",
      "[calc_ground_truth_policy_value (expected reward), batch_size=3334]: 100%|██████████| 3/3 [00:03<00:00,  1.21s/it]\n"
     ]
    },
    {
     "data": {
      "text/plain": "1.644826072014703"
     },
     "execution_count": 47,
     "metadata": {},
     "output_type": "execute_result"
    }
   ],
   "source": [
    "ground_truth_policy_value_random = dataset_with_random_behavior.calc_ground_truth_policy_value(\n",
    "    context=bandit_feedback_with_random_behavior[\"context\"],\n",
    "    evaluation_policy_logit_=random_policy_logit_\n",
    ")\n",
    "ground_truth_policy_value_random"
   ]
  },
  {
   "cell_type": "code",
   "execution_count": 48,
   "metadata": {
    "pycharm": {
     "name": "#%%\n"
    }
   },
   "outputs": [
    {
     "name": "stderr",
     "output_type": "stream",
     "text": [
      "[calc_ground_truth_policy_value (pscore)]: 100%|██████████| 10000/10000 [00:11<00:00, 904.18it/s]\n",
      "[calc_ground_truth_policy_value (expected reward), batch_size=3334]: 100%|██████████| 3/3 [00:03<00:00,  1.20s/it]\n"
     ]
    },
    {
     "data": {
      "text/plain": "1.6125410474183628"
     },
     "execution_count": 48,
     "metadata": {},
     "output_type": "execute_result"
    }
   ],
   "source": [
    "ground_truth_policy_value_optimal = dataset_with_random_behavior.calc_ground_truth_policy_value(\n",
    "    context=bandit_feedback_with_random_behavior[\"context\"],\n",
    "    evaluation_policy_logit_=optimal_policy_logit_\n",
    ")\n",
    "ground_truth_policy_value_optimal"
   ]
  },
  {
   "cell_type": "code",
   "execution_count": 49,
   "metadata": {
    "pycharm": {
     "name": "#%%\n"
    }
   },
   "outputs": [
    {
     "name": "stderr",
     "output_type": "stream",
     "text": [
      "[calc_ground_truth_policy_value (pscore)]: 100%|██████████| 10000/10000 [00:11<00:00, 847.44it/s]\n",
      "[calc_ground_truth_policy_value (expected reward), batch_size=3334]: 100%|██████████| 3/3 [00:03<00:00,  1.18s/it]\n"
     ]
    },
    {
     "data": {
      "text/plain": "1.6893330966600806"
     },
     "execution_count": 49,
     "metadata": {},
     "output_type": "execute_result"
    }
   ],
   "source": [
    "ground_truth_policy_value_anti_optimal = dataset_with_random_behavior.calc_ground_truth_policy_value(\n",
    "    context=bandit_feedback_with_random_behavior[\"context\"],\n",
    "    evaluation_policy_logit_=anti_optimal_policy_logit_\n",
    ")\n",
    "ground_truth_policy_value_anti_optimal"
   ]
  },
  {
   "cell_type": "code",
   "execution_count": 50,
   "metadata": {
    "pycharm": {
     "name": "#%%\n"
    }
   },
   "outputs": [],
   "source": [
    "estimated_interval_random[\"ground_truth\"] = ground_truth_policy_value_random\n",
    "estimated_interval_optimal[\"ground_truth\"] = ground_truth_policy_value_optimal\n",
    "estimated_interval_anti_optimal[\"ground_truth\"] = ground_truth_policy_value_anti_optimal\n",
    "\n",
    "estimated_intervals = pd.concat(\n",
    "    [\n",
    "        estimated_interval_random,\n",
    "        estimated_interval_optimal,\n",
    "        estimated_interval_anti_optimal\n",
    "    ]\n",
    ")"
   ]
  },
  {
   "cell_type": "code",
   "execution_count": 51,
   "metadata": {
    "pycharm": {
     "name": "#%%\n"
    }
   },
   "outputs": [
    {
     "data": {
      "text/plain": "          mean  95.0% CI (lower)  95.0% CI (upper)   policy_name  ground_truth\nsips  1.646317          1.631293          1.662105        random      1.644826\niips  1.646317          1.631293          1.662105        random      1.644826\nrips  1.646317          1.631293          1.662105        random      1.644826\nsips  1.629474          1.585960          1.675414       optimal      1.612541\niips  1.674750          1.655507          1.692978       optimal      1.612541\nrips  1.626834          1.594925          1.658154       optimal      1.612541\nsips  1.691671          1.647720          1.737568  anti-optimal      1.689333\niips  1.602862          1.584707          1.623184  anti-optimal      1.689333\nrips  1.687415          1.654940          1.722200  anti-optimal      1.689333",
      "text/html": "<div>\n<style scoped>\n    .dataframe tbody tr th:only-of-type {\n        vertical-align: middle;\n    }\n\n    .dataframe tbody tr th {\n        vertical-align: top;\n    }\n\n    .dataframe thead th {\n        text-align: right;\n    }\n</style>\n<table border=\"1\" class=\"dataframe\">\n  <thead>\n    <tr style=\"text-align: right;\">\n      <th></th>\n      <th>mean</th>\n      <th>95.0% CI (lower)</th>\n      <th>95.0% CI (upper)</th>\n      <th>policy_name</th>\n      <th>ground_truth</th>\n    </tr>\n  </thead>\n  <tbody>\n    <tr>\n      <th>sips</th>\n      <td>1.646317</td>\n      <td>1.631293</td>\n      <td>1.662105</td>\n      <td>random</td>\n      <td>1.644826</td>\n    </tr>\n    <tr>\n      <th>iips</th>\n      <td>1.646317</td>\n      <td>1.631293</td>\n      <td>1.662105</td>\n      <td>random</td>\n      <td>1.644826</td>\n    </tr>\n    <tr>\n      <th>rips</th>\n      <td>1.646317</td>\n      <td>1.631293</td>\n      <td>1.662105</td>\n      <td>random</td>\n      <td>1.644826</td>\n    </tr>\n    <tr>\n      <th>sips</th>\n      <td>1.629474</td>\n      <td>1.585960</td>\n      <td>1.675414</td>\n      <td>optimal</td>\n      <td>1.612541</td>\n    </tr>\n    <tr>\n      <th>iips</th>\n      <td>1.674750</td>\n      <td>1.655507</td>\n      <td>1.692978</td>\n      <td>optimal</td>\n      <td>1.612541</td>\n    </tr>\n    <tr>\n      <th>rips</th>\n      <td>1.626834</td>\n      <td>1.594925</td>\n      <td>1.658154</td>\n      <td>optimal</td>\n      <td>1.612541</td>\n    </tr>\n    <tr>\n      <th>sips</th>\n      <td>1.691671</td>\n      <td>1.647720</td>\n      <td>1.737568</td>\n      <td>anti-optimal</td>\n      <td>1.689333</td>\n    </tr>\n    <tr>\n      <th>iips</th>\n      <td>1.602862</td>\n      <td>1.584707</td>\n      <td>1.623184</td>\n      <td>anti-optimal</td>\n      <td>1.689333</td>\n    </tr>\n    <tr>\n      <th>rips</th>\n      <td>1.687415</td>\n      <td>1.654940</td>\n      <td>1.722200</td>\n      <td>anti-optimal</td>\n      <td>1.689333</td>\n    </tr>\n  </tbody>\n</table>\n</div>"
     },
     "execution_count": 51,
     "metadata": {},
     "output_type": "execute_result"
    }
   ],
   "source": [
    "estimated_intervals"
   ]
  },
  {
   "cell_type": "markdown",
   "metadata": {
    "pycharm": {
     "name": "#%% md\n"
    }
   },
   "source": [
    "We can confirm that the three OPE estimators return the same results when the behavior policy and the evaluation policy is the same, and the estimates are quite similar to the `random_policy_value` calcurated above.\n",
    "\n",
    "We can also observe that the performance of OPE estimators are as follows in this simulation: `IIPS > RIPS > SIPS`."
   ]
  },
  {
   "cell_type": "code",
   "execution_count": 52,
   "metadata": {
    "pycharm": {
     "name": "#%%\n"
    }
   },
   "outputs": [
    {
     "data": {
      "text/plain": "            se\nsips  0.000002\niips  0.000002\nrips  0.000002",
      "text/html": "<div>\n<style scoped>\n    .dataframe tbody tr th:only-of-type {\n        vertical-align: middle;\n    }\n\n    .dataframe tbody tr th {\n        vertical-align: top;\n    }\n\n    .dataframe thead th {\n        text-align: right;\n    }\n</style>\n<table border=\"1\" class=\"dataframe\">\n  <thead>\n    <tr style=\"text-align: right;\">\n      <th></th>\n      <th>se</th>\n    </tr>\n  </thead>\n  <tbody>\n    <tr>\n      <th>sips</th>\n      <td>0.000002</td>\n    </tr>\n    <tr>\n      <th>iips</th>\n      <td>0.000002</td>\n    </tr>\n    <tr>\n      <th>rips</th>\n      <td>0.000002</td>\n    </tr>\n  </tbody>\n</table>\n</div>"
     },
     "execution_count": 52,
     "metadata": {},
     "output_type": "execute_result"
    }
   ],
   "source": [
    "# evaluate the estimation performances of OPE estimators \n",
    "# by comparing the estimated policy values and its ground-truth.\n",
    "# `summarize_estimators_comparison` returns a pandas dataframe containing estimation performances of given estimators \n",
    "\n",
    "relative_ee_for_random_evaluation_policy = ope.summarize_estimators_comparison(\n",
    "    ground_truth_policy_value=ground_truth_policy_value_random,\n",
    "    evaluation_policy_pscore=random_policy_pscores[0],\n",
    "    evaluation_policy_pscore_item_position=random_policy_pscores[1],\n",
    "    evaluation_policy_pscore_cascade=random_policy_pscores[2],\n",
    ")\n",
    "relative_ee_for_random_evaluation_policy"
   ]
  },
  {
   "cell_type": "code",
   "execution_count": 53,
   "metadata": {
    "pycharm": {
     "name": "#%%\n"
    }
   },
   "outputs": [
    {
     "data": {
      "text/plain": "            se\nsips  0.000283\niips  0.003849\nrips  0.000201",
      "text/html": "<div>\n<style scoped>\n    .dataframe tbody tr th:only-of-type {\n        vertical-align: middle;\n    }\n\n    .dataframe tbody tr th {\n        vertical-align: top;\n    }\n\n    .dataframe thead th {\n        text-align: right;\n    }\n</style>\n<table border=\"1\" class=\"dataframe\">\n  <thead>\n    <tr style=\"text-align: right;\">\n      <th></th>\n      <th>se</th>\n    </tr>\n  </thead>\n  <tbody>\n    <tr>\n      <th>sips</th>\n      <td>0.000283</td>\n    </tr>\n    <tr>\n      <th>iips</th>\n      <td>0.003849</td>\n    </tr>\n    <tr>\n      <th>rips</th>\n      <td>0.000201</td>\n    </tr>\n  </tbody>\n</table>\n</div>"
     },
     "execution_count": 53,
     "metadata": {},
     "output_type": "execute_result"
    }
   ],
   "source": [
    "# evaluate the estimation performances of OPE estimators \n",
    "# by comparing the estimated policy values and its ground-truth.\n",
    "# `summarize_estimators_comparison` returns a pandas dataframe containing estimation performances of given estimators \n",
    "\n",
    "relative_ee_for_optimal_evaluation_policy = ope.summarize_estimators_comparison(\n",
    "    ground_truth_policy_value=ground_truth_policy_value_optimal,\n",
    "    evaluation_policy_pscore=optimal_policy_pscores[0],\n",
    "    evaluation_policy_pscore_item_position=optimal_policy_pscores[1],\n",
    "    evaluation_policy_pscore_cascade=optimal_policy_pscores[2],\n",
    ")\n",
    "relative_ee_for_optimal_evaluation_policy"
   ]
  },
  {
   "cell_type": "code",
   "execution_count": 54,
   "metadata": {
    "pycharm": {
     "name": "#%%\n"
    }
   },
   "outputs": [
    {
     "data": {
      "text/plain": "            se\nsips  0.000006\niips  0.007534\nrips  0.000005",
      "text/html": "<div>\n<style scoped>\n    .dataframe tbody tr th:only-of-type {\n        vertical-align: middle;\n    }\n\n    .dataframe tbody tr th {\n        vertical-align: top;\n    }\n\n    .dataframe thead th {\n        text-align: right;\n    }\n</style>\n<table border=\"1\" class=\"dataframe\">\n  <thead>\n    <tr style=\"text-align: right;\">\n      <th></th>\n      <th>se</th>\n    </tr>\n  </thead>\n  <tbody>\n    <tr>\n      <th>sips</th>\n      <td>0.000006</td>\n    </tr>\n    <tr>\n      <th>iips</th>\n      <td>0.007534</td>\n    </tr>\n    <tr>\n      <th>rips</th>\n      <td>0.000005</td>\n    </tr>\n  </tbody>\n</table>\n</div>"
     },
     "execution_count": 54,
     "metadata": {},
     "output_type": "execute_result"
    }
   ],
   "source": [
    "# evaluate the estimation performances of OPE estimators \n",
    "# by comparing the estimated policy values and its ground-truth.\n",
    "# `summarize_estimators_comparison` returns a pandas dataframe containing estimation performances of given estimators \n",
    "\n",
    "relative_ee_for_anti_optimal_evaluation_policy = ope.summarize_estimators_comparison(\n",
    "    ground_truth_policy_value=ground_truth_policy_value_anti_optimal,\n",
    "    evaluation_policy_pscore=anti_optimal_policy_pscores[0],\n",
    "    evaluation_policy_pscore_item_position=anti_optimal_policy_pscores[1],\n",
    "    evaluation_policy_pscore_cascade=anti_optimal_policy_pscores[2],\n",
    ")\n",
    "relative_ee_for_anti_optimal_evaluation_policy"
   ]
  },
  {
   "cell_type": "markdown",
   "metadata": {
    "pycharm": {
     "name": "#%% md\n"
    }
   },
   "source": [
    "The variance of OPE estimators is as follows: `SIPS > RIPS > IIPS`."
   ]
  },
  {
   "cell_type": "code",
   "execution_count": 55,
   "metadata": {
    "pycharm": {
     "name": "#%%\n"
    }
   },
   "outputs": [],
   "source": [
    "estimated_intervals[\"errbar_length\"] = (\n",
    "    estimated_intervals.drop([\"mean\", \"policy_name\", \"ground_truth\"], axis=1).diff(axis=1).iloc[:, -1].abs()\n",
    ")"
   ]
  },
  {
   "cell_type": "code",
   "execution_count": 56,
   "metadata": {
    "pycharm": {
     "name": "#%%\n"
    }
   },
   "outputs": [
    {
     "data": {
      "text/plain": "<seaborn.axisgrid.FacetGrid at 0x7fb8b0d31df0>"
     },
     "execution_count": 56,
     "metadata": {},
     "output_type": "execute_result"
    },
    {
     "data": {
      "text/plain": "<Figure size 648x216 with 3 Axes>",
      "image/png": "[encoded data removed]"
     },
     "metadata": {},
     "output_type": "display_data"
    }
   ],
   "source": [
    "alpha = 0.05\n",
    "plt.style.use(\"ggplot\")\n",
    "\n",
    "def errplot(x, y, yerr, **kwargs):\n",
    "    ax = plt.gca()\n",
    "    data = kwargs.pop(\"data\")\n",
    "    data.plot(x=x, y=y, yerr=yerr, kind=\"bar\", ax=ax, **kwargs)\n",
    "    ax.hlines(data[\"ground_truth\"].iloc[0], -1, len(x)+1)\n",
    "    \n",
    "g = sns.FacetGrid(\n",
    "    estimated_intervals.reset_index().rename(columns={\"index\": \"OPE estimator\", \"mean\": \"Policy value\"}),\n",
    "    col=\"policy_name\"\n",
    ")\n",
    "g.map_dataframe(errplot, \"OPE estimator\", \"Policy value\", \"errbar_length\")"
   ]
  },
  {
   "cell_type": "code",
   "execution_count": null,
   "metadata": {
    "pycharm": {
     "name": "#%%\n"
    }
   },
   "outputs": [],
   "source": []
  }
 ],
 "metadata": {
  "kernelspec": {
   "display_name": "Python 3",
   "language": "python",
   "name": "python3"
  },
  "language_info": {
   "codemirror_mode": {
    "name": "ipython",
    "version": 3
   },
   "file_extension": ".py",
   "mimetype": "text/x-python",
   "name": "python",
   "nbconvert_exporter": "python",
   "pygments_lexer": "ipython3",
   "version": "3.9.5"
  }
 },
 "nbformat": 4,
 "nbformat_minor": 2
}